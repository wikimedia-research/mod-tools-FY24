{
 "cells": [
  {
   "cell_type": "markdown",
   "id": "897853a3-852e-4445-be69-bc5a01720ccc",
   "metadata": {},
   "source": [
    "# Overview\n",
    "The goal is to generate a dataset for [Automoderator](https://www.mediawiki.org/wiki/Moderator_Tools/Automoderator) model testing interface. The dataset will have the following dimensions:\n",
    "* revision_id: unique id of an edit\n",
    "* revision_revert_risk: revert risk score provided by [Language-agnostic revert risk](https://meta.wikimedia.org/wiki/Machine_learning_models/Proposed/Language-agnostic_revert_risk) model\n",
    "* wiki_db: Wikimedia project\n",
    "* revision_is_identity_reverted: whether the edit has been reverted\n",
    "* event_user_revision_count: edit count of the user who made the edit (until the edit)\n",
    "* user_is_anonymous: whether the user is an anonymous (IP) user; false in this case would mean a registered user\n",
    "* user_is_bot: whether the user is a bot or not\n",
    "* is_self_revert: in case the edit was a revert, whether it was reverting a previous edit by the same user\n",
    "* is_sysop: whether the user has admin privileges on the given wiki\n",
    "* is_page_creation: whether the edit resulted in a creation of a new page\n",
    "* is_newcomer_task: whether the edit was made a result of [newcomer task add-a-link task] task (https://www.mediawiki.org/wiki/Growth/Personalized_first_day/Structured_tasks/Add_a_link)\n",
    "* is_cx_edit: whether the edit was made using the [Content Translation tool](https://www.mediawiki.org/wiki/Content_translation)"
   ]
  },
  {
   "cell_type": "markdown",
   "id": "9895d23a-ba0f-40a9-9c06-cfed34bcf2e6",
   "metadata": {},
   "source": [
    "# Data-Gathering"
   ]
  },
  {
   "cell_type": "code",
   "execution_count": 1,
   "id": "2790df04-cf7f-46e9-9ef9-f6cab026c1c1",
   "metadata": {},
   "outputs": [],
   "source": [
    "import pandas as pd\n",
    "import wmfdata as wmf\n",
    "\n",
    "pd.options.display.max_columns = None\n",
    "from IPython.display import clear_output\n",
    "\n",
    "import warnings"
   ]
  },
  {
   "cell_type": "markdown",
   "id": "5e9ab008-3c92-4bb0-89b4-491b132bbfa1",
   "metadata": {
    "tags": []
   },
   "source": [
    "## spark_session"
   ]
  },
  {
   "cell_type": "code",
   "execution_count": 2,
   "id": "0feadbcb-8ec9-4cdf-b476-087e1fcd7f29",
   "metadata": {
    "tags": []
   },
   "outputs": [
    {
     "name": "stdout",
     "output_type": "stream",
     "text": [
      "no active session\n"
     ]
    }
   ],
   "source": [
    "spark_session = wmf.spark.get_active_session()\n",
    "\n",
    "if type(spark_session) != type(None):\n",
    "    spark_session.stop()\n",
    "else:\n",
    "    print('no active session')"
   ]
  },
  {
   "cell_type": "code",
   "execution_count": 3,
   "id": "45f332d9-974b-4600-b51d-31bafc0530ec",
   "metadata": {},
   "outputs": [
    {
     "data": {
      "text/html": [
       "\n",
       "            <div>\n",
       "                <p><b>SparkSession - hive</b></p>\n",
       "                \n",
       "        <div>\n",
       "            <p><b>SparkContext</b></p>\n",
       "\n",
       "            <p><a href=\"http://stat1005.eqiad.wmnet:4050\">Spark UI</a></p>\n",
       "\n",
       "            <dl>\n",
       "              <dt>Version</dt>\n",
       "                <dd><code>v3.1.2</code></dd>\n",
       "              <dt>Master</dt>\n",
       "                <dd><code>yarn</code></dd>\n",
       "              <dt>AppName</dt>\n",
       "                <dd><code>revert-risk-data-sample</code></dd>\n",
       "            </dl>\n",
       "        </div>\n",
       "        \n",
       "            </div>\n",
       "        "
      ],
      "text/plain": [
       "<pyspark.sql.session.SparkSession at 0x7fca0435f670>"
      ]
     },
     "execution_count": 3,
     "metadata": {},
     "output_type": "execute_result"
    }
   ],
   "source": [
    "spark_session = wmf.spark.create_custom_session(\n",
    "    master=\"yarn\",\n",
    "    app_name='revert-risk-data-sample',\n",
    "    spark_config={\n",
    "        \"spark.driver.memory\": \"4g\",\n",
    "        \"spark.dynamicAllocation.maxExecutors\": 64,\n",
    "        \"spark.executor.memory\": \"16g\",\n",
    "        \"spark.executor.cores\": 4,\n",
    "        \"spark.sql.shuffle.partitions\": 256,\n",
    "        \"spark.driver.maxResultSize\": \"2g\"\n",
    "        \n",
    "    }\n",
    ")\n",
    "\n",
    "clear_output()\n",
    "\n",
    "spark_session"
   ]
  },
  {
   "cell_type": "code",
   "execution_count": 4,
   "id": "495c3a62-a477-4bed-9d22-2f92b3c71080",
   "metadata": {},
   "outputs": [],
   "source": [
    "spark_session.sparkContext.setLogLevel(\"ERROR\")"
   ]
  },
  {
   "cell_type": "markdown",
   "id": "0fc2dfcf-bf8a-457b-a60d-5f63c0c66f6c",
   "metadata": {},
   "source": [
    "## query"
   ]
  },
  {
   "cell_type": "code",
   "execution_count": 5,
   "id": "7288991f-1305-4674-bc85-44164d70f9b6",
   "metadata": {},
   "outputs": [
    {
     "name": "stderr",
     "output_type": "stream",
     "text": [
      "                                                                                \r"
     ]
    }
   ],
   "source": [
    "# paths to pre-calculated revert risk scores\n",
    "# generated by https://gitlab.wikimedia.org/repos/research/knowledge_integrity/-/blob/mnz/examples/examples/notebooks/revertrisk_example.ipynb\n",
    "rr_scores_path = '/user/paragon/riskobservatory/revertrisk_20212022_anonymous_bot.parquet'\n",
    "\n",
    "rr_scores = spark_session.read.parquet(rr_scores_path)\n",
    "rr_scores.createOrReplaceTempView('rr_scores')"
   ]
  },
  {
   "cell_type": "code",
   "execution_count": 8,
   "id": "033e95fc-7fe8-4b2d-bdaa-15db0df6b8d7",
   "metadata": {},
   "outputs": [
    {
     "name": "stdout",
     "output_type": "stream",
     "text": [
      "root\n",
      " |-- rev_id: long (nullable = true)\n",
      " |-- wiki_db: string (nullable = true)\n",
      " |-- rev_timestamp: string (nullable = true)\n",
      " |-- revision_is_identity_reverted: boolean (nullable = true)\n",
      " |-- revision_seconds_to_identity_revert: long (nullable = true)\n",
      " |-- page_id: long (nullable = true)\n",
      " |-- revision_revert_risk: float (nullable = true)\n",
      " |-- user_is_anonymous: boolean (nullable = true)\n",
      " |-- user_is_bot: boolean (nullable = true)\n",
      "\n"
     ]
    }
   ],
   "source": [
    "rr_scores.printSchema()"
   ]
  },
  {
   "cell_type": "code",
   "execution_count": 6,
   "id": "2816b767-e2a0-4715-89ee-279f8568678e",
   "metadata": {},
   "outputs": [],
   "source": [
    "def generate_dataset(wikis, session=spark_session, random_state = 910, sample_size = 25500):\n",
    "    \n",
    "    if type(wikis) == str:\n",
    "        wikis = [wikis]\n",
    "    \n",
    "    sample = session.sql(\"\"\"\n",
    "        WITH \n",
    "            base AS (\n",
    "                SELECT\n",
    "                    *,\n",
    "                    CASE\n",
    "                        WHEN revision_revert_risk >= 0.97 THEN TRUE\n",
    "                        ELSE FALSE\n",
    "                    END AS is_high_revert_risk\n",
    "                FROM\n",
    "                    rr_scores\n",
    "                WHERE\n",
    "                    wiki_db IN {WIKIS}\n",
    "                ),\n",
    "\n",
    "            ranking AS (\n",
    "                SELECT \n",
    "                    *,\n",
    "                    ROW_NUMBER() OVER (\n",
    "                        PARTITION BY wiki_db, revision_is_identity_reverted, is_high_revert_risk\n",
    "                        ORDER BY RAND(0910)\n",
    "                    ) AS row_num\n",
    "                FROM \n",
    "                    base\n",
    "            ),\n",
    "\n",
    "            sample AS (\n",
    "                SELECT\n",
    "                    *\n",
    "                FROM\n",
    "                    ranking\n",
    "                WHERE \n",
    "                    row_num <= 8500\n",
    "            ),\n",
    "\n",
    "            base_sample AS (\n",
    "                SELECT\n",
    "                    mwh.event_user_text,\n",
    "                    s.rev_id,\n",
    "                    revision_revert_risk,\n",
    "                    s.wiki_db,\n",
    "                    s.revision_is_identity_reverted,\n",
    "                    event_user_revision_count,\n",
    "                    s.user_is_anonymous,\n",
    "                    user_is_bot,\n",
    "                    page_title,\n",
    "                    CASE \n",
    "                        WHEN ARRAY_CONTAINS(mwh.event_user_groups, 'sysop') THEN TRUE\n",
    "                        ELSE FALSE\n",
    "                    END AS is_sysop,\n",
    "                    CASE \n",
    "                        WHEN mwh.revision_parent_id = 0 THEN TRUE \n",
    "                        ELSE FALSE \n",
    "                    END AS is_page_creation,\n",
    "                    CASE \n",
    "                        WHEN ARRAY_CONTAINS(mwh.revision_tags, 'newcomer task add link') THEN TRUE\n",
    "                        ELSE FALSE\n",
    "                    END AS is_newcomer_task,\n",
    "                    CASE\n",
    "                        WHEN ARRAY_CONTAINS(mwh.revision_tags, 'contenttranslation') THEN TRUE\n",
    "                        ELSE FALSE\n",
    "                    END AS is_cx_edit,\n",
    "                    CASE\n",
    "                        WHEN revision_is_identity_revert THEN TRUE\n",
    "                        ELSE FALSE\n",
    "                    END reverting_edit,\n",
    "                    is_high_revert_risk\n",
    "                FROM \n",
    "                    sample s\n",
    "                JOIN \n",
    "                    wmf.mediawiki_history mwh \n",
    "                    ON s.wiki_db = mwh.wiki_db AND s.rev_id = mwh.revision_id\n",
    "                WHERE \n",
    "                    snapshot = '2023-10'\n",
    "                ),\n",
    "\n",
    "            reverts AS (\n",
    "                SELECT \n",
    "                    * \n",
    "                FROM \n",
    "                    base_sample \n",
    "                WHERE \n",
    "                    reverting_edit),\n",
    "\n",
    "            non_reverts AS (\n",
    "                SELECT \n",
    "                    *, \n",
    "                    NULL AS is_self_revert \n",
    "                FROM \n",
    "                    base_sample \n",
    "                    WHERE NOT reverting_edit),\n",
    "\n",
    "            self_reverts AS (\n",
    "                SELECT\n",
    "                    rv.*,\n",
    "                    CASE \n",
    "                        WHEN rv.event_user_text = mwh.event_user_text THEN TRUE\n",
    "                        ELSE FALSE\n",
    "                    END AS is_self_revert\n",
    "                FROM \n",
    "                    reverts rv\n",
    "                    LEFT JOIN wmf.mediawiki_history mwh\n",
    "                    ON rv.wiki_db = mwh.wiki_db \n",
    "                        AND rv.rev_id = mwh.revision_first_identity_reverting_revision_id\n",
    "                )\n",
    "\n",
    "        SELECT * FROM non_reverts\n",
    "        UNION ALL\n",
    "        SELECT * FROM self_reverts\n",
    "        \"\"\".format(WIKIS=wmf.utils.sql_tuple(wikis)))\n",
    "    \n",
    "    sample_frame = sample.toPandas().drop_duplicates(ignore_index=True)\n",
    "    \n",
    "    final_sample = pd.DataFrame()\n",
    "    \n",
    "    for wiki in sample_frame['wiki_db'].unique():\n",
    "                \n",
    "        sampled_data = sample_frame.query(\"\"\"wiki_db == @wiki\"\"\")\n",
    "        if sampled_data.shape[0] < sample_size:\n",
    "            sample_size = sampled_data.shape[0]\n",
    "        \n",
    "        sampled_data = sampled_data.sample(sample_size, random_state=random_state)        \n",
    "        sampled_data.to_csv(f'samples/revert_risk_dataset_{wiki}.tsv', sep='\\t')"
   ]
  },
  {
   "cell_type": "markdown",
   "id": "fe43bdf3-4e66-47b9-9c8d-393824f0455c",
   "metadata": {},
   "source": [
    "# Generate"
   ]
  },
  {
   "cell_type": "markdown",
   "id": "d3a32e89-ceff-49a0-905a-bfd9b978a76a",
   "metadata": {},
   "source": [
    "## top 150 Wikipedias"
   ]
  },
  {
   "cell_type": "code",
   "execution_count": 7,
   "id": "1ff03c74-cffe-44ed-9390-090813e8b1fa",
   "metadata": {},
   "outputs": [],
   "source": [
    "wiki_comparision = pd.read_csv('https://raw.githubusercontent.com/wikimedia-research/wiki-comparison/main/data-collection/snapshots/Jan_2023.tsv', sep='\\t')\n",
    "top150_wps = (\n",
    "    wiki_comparision[wiki_comparision['project code'] == 'wikipedia']\n",
    "    .reset_index(drop=True)\n",
    "    .iloc[:150, :]['database code']\n",
    "    .values.tolist()\n",
    ")"
   ]
  },
  {
   "cell_type": "code",
   "execution_count": 10,
   "id": "1d2b5007-06c7-4ddf-8ab9-ecabe0a5070d",
   "metadata": {},
   "outputs": [],
   "source": [
    "top150_wps.remove('enwiki')"
   ]
  },
  {
   "cell_type": "code",
   "execution_count": null,
   "id": "19cd5385-af6a-44bb-99f6-6d2bd567926d",
   "metadata": {},
   "outputs": [
    {
     "name": "stderr",
     "output_type": "stream",
     "text": [
      "23/11/13 07:52:44 WARN SharedInMemoryCache: Evicting cached table partition metadata from memory due to size constraints (spark.sql.hive.filesourcePartitionFileCacheSize = 262144000 bytes). This may impact query planning performance.\n",
      "                                                                                4]]\r"
     ]
    }
   ],
   "source": [
    "%%time\n",
    "generate_dataset(top150_wps)"
   ]
  }
 ],
 "metadata": {
  "kernelspec": {
   "display_name": "Python 3 (ipykernel)",
   "language": "python",
   "name": "python3"
  },
  "language_info": {
   "codemirror_mode": {
    "name": "ipython",
    "version": 3
   },
   "file_extension": ".py",
   "mimetype": "text/x-python",
   "name": "python",
   "nbconvert_exporter": "python",
   "pygments_lexer": "ipython3",
   "version": "3.10.8"
  }
 },
 "nbformat": 4,
 "nbformat_minor": 5
}
