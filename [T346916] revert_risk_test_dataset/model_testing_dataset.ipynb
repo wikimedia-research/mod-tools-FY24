{
 "cells": [
  {
   "cell_type": "markdown",
   "id": "897853a3-852e-4445-be69-bc5a01720ccc",
   "metadata": {},
   "source": [
    "# Overview\n",
    "The goal is to generate a dataset for [Automoderator](https://www.mediawiki.org/wiki/Moderator_Tools/Automoderator) model testing interface. The dataset will have the following dimensions:\n",
    "* revision_id: unique id of an edit\n",
    "* revision_revert_risk: revert risk score provided by [Language-agnostic revert risk](https://meta.wikimedia.org/wiki/Machine_learning_models/Proposed/Language-agnostic_revert_risk) model\n",
    "* wiki_db: Wikimedia project\n",
    "* revision_is_identity_reverted: whether the edit has been reverted\n",
    "* event_user_revision_count: edit count of the user who made the edit (until the edit)\n",
    "* user_is_anonymous: whether the user is an anonymous (IP) user; false in this case would mean a registered user\n",
    "* user_is_bot: whether the user is a bot or not\n",
    "* is_self_revert: in case the edit was a revert, whether it was reverting a previous edit by the same user\n",
    "* is_sysop: whether the user has admin privileges on the given wiki\n",
    "* is_page_creation: whether the edit resulted in a creation of a new page\n",
    "* is_newcomer_task: whether the edit was made a result of [newcomer task add-a-link task] task (https://www.mediawiki.org/wiki/Growth/Personalized_first_day/Structured_tasks/Add_a_link)\n",
    "* is_cx_edit: whether the edit was made using the [Content Translation tool](https://www.mediawiki.org/wiki/Content_translation)"
   ]
  },
  {
   "cell_type": "markdown",
   "id": "9895d23a-ba0f-40a9-9c06-cfed34bcf2e6",
   "metadata": {},
   "source": [
    "# Data-Gathering"
   ]
  },
  {
   "cell_type": "code",
   "execution_count": 1,
   "id": "2790df04-cf7f-46e9-9ef9-f6cab026c1c1",
   "metadata": {},
   "outputs": [
    {
     "name": "stdout",
     "output_type": "stream",
     "text": [
      "\n"
     ]
    },
    {
     "name": "stderr",
     "output_type": "stream",
     "text": [
      "You are using Wmfdata v2.0.0, but v2.0.1 is available.\n",
      "\n",
      "To update, run `pip install --upgrade git+https://github.com/wikimedia/wmfdata-python.git@release`.\n",
      "\n",
      "To see the changes, refer to https://github.com/wikimedia/wmfdata-python/blob/release/CHANGELOG.md.\n"
     ]
    }
   ],
   "source": [
    "import pandas as pd\n",
    "import wmfdata as wmf\n",
    "\n",
    "pd.options.display.max_columns = None\n",
    "from IPython.display import clear_output\n",
    "\n",
    "import warnings"
   ]
  },
  {
   "cell_type": "markdown",
   "id": "5e9ab008-3c92-4bb0-89b4-491b132bbfa1",
   "metadata": {
    "tags": []
   },
   "source": [
    "## spark_session"
   ]
  },
  {
   "cell_type": "code",
   "execution_count": 2,
   "id": "0feadbcb-8ec9-4cdf-b476-087e1fcd7f29",
   "metadata": {
    "tags": []
   },
   "outputs": [
    {
     "name": "stdout",
     "output_type": "stream",
     "text": [
      "no active session\n"
     ]
    }
   ],
   "source": [
    "spark_session = wmf.spark.get_active_session()\n",
    "\n",
    "if type(spark_session) != type(None):\n",
    "    spark_session.stop()\n",
    "else:\n",
    "    print('no active session')"
   ]
  },
  {
   "cell_type": "code",
   "execution_count": 3,
   "id": "45f332d9-974b-4600-b51d-31bafc0530ec",
   "metadata": {},
   "outputs": [
    {
     "data": {
      "text/html": [
       "\n",
       "            <div>\n",
       "                <p><b>SparkSession - hive</b></p>\n",
       "                \n",
       "        <div>\n",
       "            <p><b>SparkContext</b></p>\n",
       "\n",
       "            <p><a href=\"http://stat1005.eqiad.wmnet:4043\">Spark UI</a></p>\n",
       "\n",
       "            <dl>\n",
       "              <dt>Version</dt>\n",
       "                <dd><code>v3.1.2</code></dd>\n",
       "              <dt>Master</dt>\n",
       "                <dd><code>yarn</code></dd>\n",
       "              <dt>AppName</dt>\n",
       "                <dd><code>revert-risk-data-sample</code></dd>\n",
       "            </dl>\n",
       "        </div>\n",
       "        \n",
       "            </div>\n",
       "        "
      ],
      "text/plain": [
       "<pyspark.sql.session.SparkSession at 0x7f768db77370>"
      ]
     },
     "execution_count": 3,
     "metadata": {},
     "output_type": "execute_result"
    }
   ],
   "source": [
    "spark_session = wmf.spark.create_custom_session(\n",
    "    master=\"yarn\",\n",
    "    app_name='revert-risk-data-sample',\n",
    "    spark_config={\n",
    "        \"spark.driver.memory\": \"4g\",\n",
    "        \"spark.dynamicAllocation.maxExecutors\": 64,\n",
    "        \"spark.executor.memory\": \"16g\",\n",
    "        \"spark.executor.cores\": 4,\n",
    "        \"spark.sql.shuffle.partitions\": 256,\n",
    "        \"spark.driver.maxResultSize\": \"2g\"\n",
    "        \n",
    "    }\n",
    ")\n",
    "\n",
    "clear_output()\n",
    "\n",
    "spark_session"
   ]
  },
  {
   "cell_type": "code",
   "execution_count": 4,
   "id": "495c3a62-a477-4bed-9d22-2f92b3c71080",
   "metadata": {},
   "outputs": [],
   "source": [
    "spark_session.sparkContext.setLogLevel(\"ERROR\")"
   ]
  },
  {
   "cell_type": "markdown",
   "id": "0fc2dfcf-bf8a-457b-a60d-5f63c0c66f6c",
   "metadata": {},
   "source": [
    "## query"
   ]
  },
  {
   "cell_type": "code",
   "execution_count": 5,
   "id": "7288991f-1305-4674-bc85-44164d70f9b6",
   "metadata": {},
   "outputs": [
    {
     "name": "stderr",
     "output_type": "stream",
     "text": [
      "                                                                                \r"
     ]
    }
   ],
   "source": [
    "# paths to pre-calculated revert risk scores\n",
    "# generated by https://gitlab.wikimedia.org/repos/research/knowledge_integrity/-/blob/mnz/examples/examples/notebooks/revertrisk_example.ipynb\n",
    "rr_scores_path = '/user/paragon/riskobservatory/revertrisk_20212022_anonymous_bot.parquet'\n",
    "\n",
    "rr_scores = spark_session.read.parquet(rr_scores_path)\n",
    "rr_scores.createOrReplaceTempView('rr_scores')"
   ]
  },
  {
   "cell_type": "code",
   "execution_count": 6,
   "id": "e517a616-5bad-44ba-90ec-9c555d5c16c9",
   "metadata": {},
   "outputs": [],
   "source": [
    "sample = spark_session.sql(\"\"\"\n",
    "WITH \n",
    "    base AS (\n",
    "        SELECT \n",
    "            *,\n",
    "            ROW_NUMBER() OVER (\n",
    "                PARTITION BY wiki_db, revision_is_identity_reverted\n",
    "                ORDER BY RAND(0923)\n",
    "            ) AS row_num\n",
    "        FROM rr_scores\n",
    "        WHERE wiki_db IN ('enwiki', 'idwiki')\n",
    "    ),\n",
    "\n",
    "    sample AS (\n",
    "        SELECT\n",
    "            *\n",
    "        FROM\n",
    "            base\n",
    "        WHERE row_num <= 12500\n",
    "    ),\n",
    "\n",
    "    base_sample AS (\n",
    "        SELECT\n",
    "            mwh.event_user_text,\n",
    "            s.rev_id,\n",
    "            revision_revert_risk,\n",
    "            s.wiki_db,\n",
    "            s.revision_is_identity_reverted,\n",
    "            event_user_revision_count,\n",
    "            s.user_is_anonymous,\n",
    "            user_is_bot,\n",
    "            page_title,\n",
    "            CASE \n",
    "                WHEN ARRAY_CONTAINS(mwh.event_user_groups, 'sysop') THEN TRUE\n",
    "                ELSE FALSE\n",
    "            END AS is_sysop,\n",
    "            CASE \n",
    "                WHEN mwh.revision_parent_id = 0 THEN TRUE \n",
    "                ELSE FALSE \n",
    "            END AS is_page_creation,\n",
    "            CASE \n",
    "                WHEN ARRAY_CONTAINS(mwh.revision_tags, 'newcomer task add link') THEN TRUE\n",
    "                ELSE FALSE\n",
    "            END AS is_newcomer_task,\n",
    "            CASE\n",
    "                WHEN ARRAY_CONTAINS(mwh.revision_tags, 'contenttranslation') THEN TRUE\n",
    "                ELSE FALSE\n",
    "            END AS is_cx_edit,\n",
    "            CASE\n",
    "                WHEN revision_is_identity_revert THEN TRUE\n",
    "                ELSE FALSE\n",
    "            END reverting_edit\n",
    "        FROM \n",
    "            sample s\n",
    "        JOIN \n",
    "            wmf.mediawiki_history mwh \n",
    "            ON s.wiki_db = mwh.wiki_db AND s.rev_id = mwh.revision_id\n",
    "        WHERE \n",
    "            snapshot = '2023-09'\n",
    "        ),\n",
    "    \n",
    "    reverts AS (\n",
    "        SELECT \n",
    "            * \n",
    "        FROM \n",
    "            base_sample \n",
    "        WHERE \n",
    "            reverting_edit),\n",
    "            \n",
    "    non_reverts AS (\n",
    "        SELECT \n",
    "            *, \n",
    "            NULL AS is_self_revert \n",
    "        FROM \n",
    "            base_sample \n",
    "            WHERE NOT reverting_edit),\n",
    "    \n",
    "    self_reverts AS (\n",
    "        SELECT\n",
    "            rv.*,\n",
    "            CASE \n",
    "                WHEN rv.event_user_text = mwh.event_user_text THEN TRUE\n",
    "                ELSE FALSE\n",
    "            END AS is_self_revert\n",
    "        FROM \n",
    "            reverts rv\n",
    "            LEFT JOIN wmf.mediawiki_history mwh\n",
    "            ON rv.wiki_db = mwh.wiki_db \n",
    "                AND rv.rev_id = mwh.revision_first_identity_reverting_revision_id\n",
    "        )\n",
    "    \n",
    "SELECT * FROM non_reverts\n",
    "UNION ALL\n",
    "SELECT * FROM self_reverts\n",
    "\"\"\")"
   ]
  },
  {
   "cell_type": "markdown",
   "id": "fe43bdf3-4e66-47b9-9c8d-393824f0455c",
   "metadata": {},
   "source": [
    "# Output"
   ]
  },
  {
   "cell_type": "code",
   "execution_count": null,
   "id": "442c9716-7f6b-49c0-bbef-b2fbeae6a777",
   "metadata": {},
   "outputs": [],
   "source": [
    "sample_frame = sample.toPandas()"
   ]
  },
  {
   "cell_type": "code",
   "execution_count": 11,
   "id": "ea78ba41-4612-4ced-9ac7-ef16c9fd186c",
   "metadata": {},
   "outputs": [],
   "source": [
    "sample_frame.drop_duplicates().to_csv('revert_risk_test_data.tsv', sep='\\t')"
   ]
  }
 ],
 "metadata": {
  "kernelspec": {
   "display_name": "Python 3 (ipykernel)",
   "language": "python",
   "name": "python3"
  },
  "language_info": {
   "codemirror_mode": {
    "name": "ipython",
    "version": 3
   },
   "file_extension": ".py",
   "mimetype": "text/x-python",
   "name": "python",
   "nbconvert_exporter": "python",
   "pygments_lexer": "ipython3",
   "version": "3.10.8"
  }
 },
 "nbformat": 4,
 "nbformat_minor": 5
}
