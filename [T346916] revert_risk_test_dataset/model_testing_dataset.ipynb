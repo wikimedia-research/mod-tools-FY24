{
 "cells": [
  {
   "cell_type": "markdown",
   "id": "897853a3-852e-4445-be69-bc5a01720ccc",
   "metadata": {},
   "source": [
    "# Overview\n",
    "The goal is to generate a dataset for [Automoderator](https://www.mediawiki.org/wiki/Moderator_Tools/Automoderator) model testing interface. The dataset will have the following dimensions:\n",
    "* revision_id: unique id of an edit\n",
    "* revision_revert_risk: revert risk score provided by [Language-agnostic revert risk](https://meta.wikimedia.org/wiki/Machine_learning_models/Proposed/Language-agnostic_revert_risk) model\n",
    "* wiki_db: Wikimedia project\n",
    "* revision_is_identity_reverted: whether the edit has been reverted\n",
    "* event_user_revision_count: edit count of the user who made the edit (until the edit)\n",
    "* user_is_anonymous: whether the user is an anonymous (IP) user; false in this case would mean a registered user\n",
    "* user_is_bot: whether the user is a bot or not\n",
    "* is_self_revert: in case the edit was a revert, whether it was reverting a previous edit by the same user\n",
    "* is_sysop: whether the user has admin privileges on the given wiki\n",
    "* is_page_creation: whether the edit resulted in a creation of a new page\n",
    "* is_newcomer_task: whether the edit was made a result of [newcomer task add-a-link task] task (https://www.mediawiki.org/wiki/Growth/Personalized_first_day/Structured_tasks/Add_a_link)\n",
    "* is_cx_edit: whether the edit was made using the [Content Translation tool](https://www.mediawiki.org/wiki/Content_translation)"
   ]
  },
  {
   "cell_type": "markdown",
   "id": "9895d23a-ba0f-40a9-9c06-cfed34bcf2e6",
   "metadata": {},
   "source": [
    "# Data-Gathering"
   ]
  },
  {
   "cell_type": "code",
   "execution_count": 27,
   "id": "2790df04-cf7f-46e9-9ef9-f6cab026c1c1",
   "metadata": {},
   "outputs": [],
   "source": [
    "import pandas as pd\n",
    "import wmfdata as wmf\n",
    "\n",
    "import os\n",
    "import warnings"
   ]
  },
  {
   "cell_type": "code",
   "execution_count": 28,
   "id": "19c0f984-dbcb-44ba-aeea-f6251d527dbc",
   "metadata": {},
   "outputs": [],
   "source": [
    "pd.options.display.max_columns = None\n",
    "from IPython.display import clear_output"
   ]
  },
  {
   "cell_type": "markdown",
   "id": "5e9ab008-3c92-4bb0-89b4-491b132bbfa1",
   "metadata": {
    "tags": []
   },
   "source": [
    "## spark_session"
   ]
  },
  {
   "cell_type": "code",
   "execution_count": 13,
   "id": "0feadbcb-8ec9-4cdf-b476-087e1fcd7f29",
   "metadata": {
    "tags": []
   },
   "outputs": [],
   "source": [
    "spark_session = wmf.spark.get_active_session()\n",
    "\n",
    "if type(spark_session) != type(None):\n",
    "    spark_session.stop()\n",
    "else:\n",
    "    print('no active session')"
   ]
  },
  {
   "cell_type": "code",
   "execution_count": 15,
   "id": "45f332d9-974b-4600-b51d-31bafc0530ec",
   "metadata": {},
   "outputs": [
    {
     "data": {
      "text/html": [
       "\n",
       "            <div>\n",
       "                <p><b>SparkSession - hive</b></p>\n",
       "                \n",
       "        <div>\n",
       "            <p><b>SparkContext</b></p>\n",
       "\n",
       "            <p><a href=\"http://stat1005.eqiad.wmnet:4042\">Spark UI</a></p>\n",
       "\n",
       "            <dl>\n",
       "              <dt>Version</dt>\n",
       "                <dd><code>v3.1.2</code></dd>\n",
       "              <dt>Master</dt>\n",
       "                <dd><code>yarn</code></dd>\n",
       "              <dt>AppName</dt>\n",
       "                <dd><code>revert-risk-data-sample</code></dd>\n",
       "            </dl>\n",
       "        </div>\n",
       "        \n",
       "            </div>\n",
       "        "
      ],
      "text/plain": [
       "<pyspark.sql.session.SparkSession at 0x7f3051f10520>"
      ]
     },
     "execution_count": 15,
     "metadata": {},
     "output_type": "execute_result"
    }
   ],
   "source": [
    "spark_session = wmf.spark.create_custom_session(\n",
    "    master=\"yarn\",\n",
    "    app_name='revert-risk-data-sample',\n",
    "    spark_config={\n",
    "        \"spark.driver.memory\": \"4g\",\n",
    "        \"spark.dynamicAllocation.maxExecutors\": 64,\n",
    "        \"spark.executor.memory\": \"16g\",\n",
    "        \"spark.executor.cores\": 4,\n",
    "        \"spark.sql.shuffle.partitions\": 256,\n",
    "        \"spark.driver.maxResultSize\": \"2g\"\n",
    "        \n",
    "    }\n",
    ")\n",
    "\n",
    "clear_output()\n",
    "\n",
    "spark_session"
   ]
  },
  {
   "cell_type": "code",
   "execution_count": 17,
   "id": "495c3a62-a477-4bed-9d22-2f92b3c71080",
   "metadata": {},
   "outputs": [],
   "source": [
    "spark_session.sparkContext.setLogLevel(\"ERROR\")"
   ]
  },
  {
   "cell_type": "markdown",
   "id": "0fc2dfcf-bf8a-457b-a60d-5f63c0c66f6c",
   "metadata": {},
   "source": [
    "## query"
   ]
  },
  {
   "cell_type": "code",
   "execution_count": 18,
   "id": "7288991f-1305-4674-bc85-44164d70f9b6",
   "metadata": {},
   "outputs": [
    {
     "name": "stderr",
     "output_type": "stream",
     "text": [
      "                                                                                \r"
     ]
    }
   ],
   "source": [
    "# paths to pre-calculated revert risk scores\n",
    "# generated by https://gitlab.wikimedia.org/repos/research/knowledge_integrity/-/blob/mnz/examples/examples/notebooks/revertrisk_example.ipynb\n",
    "rr_scores_path = '/user/paragon/riskobservatory/revertrisk_20212022_anonymous_bot.parquet'\n",
    "\n",
    "rr_scores = spark_session.read.parquet(rr_scores_path)\n",
    "rr_scores.createOrReplaceTempView('rr_scores')"
   ]
  },
  {
   "cell_type": "code",
   "execution_count": 19,
   "id": "033e95fc-7fe8-4b2d-bdaa-15db0df6b8d7",
   "metadata": {},
   "outputs": [
    {
     "name": "stdout",
     "output_type": "stream",
     "text": [
      "root\n",
      " |-- rev_id: long (nullable = true)\n",
      " |-- wiki_db: string (nullable = true)\n",
      " |-- rev_timestamp: string (nullable = true)\n",
      " |-- revision_is_identity_reverted: boolean (nullable = true)\n",
      " |-- revision_seconds_to_identity_revert: long (nullable = true)\n",
      " |-- page_id: long (nullable = true)\n",
      " |-- revision_revert_risk: float (nullable = true)\n",
      " |-- user_is_anonymous: boolean (nullable = true)\n",
      " |-- user_is_bot: boolean (nullable = true)\n",
      "\n"
     ]
    }
   ],
   "source": [
    "rr_scores.printSchema()"
   ]
  },
  {
   "cell_type": "code",
   "execution_count": 20,
   "id": "2816b767-e2a0-4715-89ee-279f8568678e",
   "metadata": {},
   "outputs": [],
   "source": [
    "def generate_dataset(wiki, session=spark_session, random_state = 910, sample_size = 25500):\n",
    "    \n",
    "    sample = session.sql(\"\"\"\n",
    "        WITH \n",
    "            base AS (\n",
    "                SELECT\n",
    "                    *,\n",
    "                    CASE\n",
    "                        WHEN revision_revert_risk >= 0.97 THEN TRUE\n",
    "                        ELSE FALSE\n",
    "                    END AS is_high_revert_risk\n",
    "                FROM\n",
    "                    rr_scores\n",
    "                WHERE\n",
    "                    wiki_db = '{WIKI}'\n",
    "                ),\n",
    "\n",
    "            ranking AS (\n",
    "                SELECT \n",
    "                    *,\n",
    "                    ROW_NUMBER() OVER (\n",
    "                        PARTITION BY wiki_db, revision_is_identity_reverted, is_high_revert_risk\n",
    "                        ORDER BY RAND(0910)\n",
    "                    ) AS row_num\n",
    "                FROM \n",
    "                    base\n",
    "            ),\n",
    "\n",
    "            sample AS (\n",
    "                SELECT\n",
    "                    *\n",
    "                FROM\n",
    "                    ranking\n",
    "                WHERE \n",
    "                    row_num <= 9000\n",
    "            ),\n",
    "\n",
    "            base_sample AS (\n",
    "                SELECT\n",
    "                    mwh.event_user_text,\n",
    "                    s.rev_id,\n",
    "                    revision_revert_risk,\n",
    "                    s.wiki_db,\n",
    "                    s.revision_is_identity_reverted,\n",
    "                    event_user_revision_count,\n",
    "                    s.user_is_anonymous,\n",
    "                    user_is_bot,\n",
    "                    page_title,\n",
    "                    CASE \n",
    "                        WHEN ARRAY_CONTAINS(mwh.event_user_groups, 'sysop') THEN TRUE\n",
    "                        ELSE FALSE\n",
    "                    END AS is_sysop,\n",
    "                    CASE \n",
    "                        WHEN mwh.revision_parent_id = 0 THEN TRUE \n",
    "                        ELSE FALSE \n",
    "                    END AS is_page_creation,\n",
    "                    CASE \n",
    "                        WHEN ARRAY_CONTAINS(mwh.revision_tags, 'newcomer task add link') THEN TRUE\n",
    "                        ELSE FALSE\n",
    "                    END AS is_newcomer_task,\n",
    "                    CASE\n",
    "                        WHEN ARRAY_CONTAINS(mwh.revision_tags, 'contenttranslation') THEN TRUE\n",
    "                        ELSE FALSE\n",
    "                    END AS is_cx_edit,\n",
    "                    CASE\n",
    "                        WHEN revision_is_identity_revert THEN TRUE\n",
    "                        ELSE FALSE\n",
    "                    END reverting_edit,\n",
    "                    is_high_revert_risk\n",
    "                FROM \n",
    "                    sample s\n",
    "                JOIN \n",
    "                    wmf.mediawiki_history mwh \n",
    "                    ON s.wiki_db = mwh.wiki_db AND s.rev_id = mwh.revision_id\n",
    "                WHERE \n",
    "                    snapshot = '2023-10'\n",
    "                ),\n",
    "\n",
    "            reverts AS (\n",
    "                SELECT \n",
    "                    * \n",
    "                FROM \n",
    "                    base_sample \n",
    "                WHERE \n",
    "                    reverting_edit),\n",
    "\n",
    "            non_reverts AS (\n",
    "                SELECT \n",
    "                    *, \n",
    "                    NULL AS is_self_revert \n",
    "                FROM \n",
    "                    base_sample \n",
    "                    WHERE NOT reverting_edit),\n",
    "\n",
    "            self_reverts AS (\n",
    "                SELECT\n",
    "                    rv.*,\n",
    "                    CASE \n",
    "                        WHEN rv.event_user_text = mwh.event_user_text THEN TRUE\n",
    "                        ELSE FALSE\n",
    "                    END AS is_self_revert\n",
    "                FROM \n",
    "                    reverts rv\n",
    "                    LEFT JOIN wmf.mediawiki_history mwh\n",
    "                    ON rv.wiki_db = mwh.wiki_db \n",
    "                        AND rv.rev_id = mwh.revision_first_identity_reverting_revision_id\n",
    "                )\n",
    "\n",
    "        SELECT * FROM non_reverts\n",
    "        UNION ALL\n",
    "        SELECT * FROM self_reverts\n",
    "        \"\"\".format(WIKI=wiki))\n",
    "    \n",
    "    sample_frame = sample.toPandas().drop_duplicates(ignore_index=True)\n",
    "\n",
    "    if sample_frame.shape[0] < sample_size:\n",
    "        sample_size = sample_frame.shape[0]\n",
    "\n",
    "    sampled_data = sample_frame.sample(sample_size, random_state=random_state)\n",
    "    return sampled_data"
   ]
  },
  {
   "cell_type": "markdown",
   "id": "fe43bdf3-4e66-47b9-9c8d-393824f0455c",
   "metadata": {},
   "source": [
    "# Generate"
   ]
  },
  {
   "cell_type": "markdown",
   "id": "d3a32e89-ceff-49a0-905a-bfd9b978a76a",
   "metadata": {},
   "source": [
    "## top 150 Wikipedias"
   ]
  },
  {
   "cell_type": "code",
   "execution_count": 52,
   "id": "1ff03c74-cffe-44ed-9390-090813e8b1fa",
   "metadata": {},
   "outputs": [],
   "source": [
    "wiki_comparision = pd.read_csv('https://raw.githubusercontent.com/wikimedia-research/wiki-comparison/main/data-collection/snapshots/Jan_2023.tsv', sep='\\t')\n",
    "top150_wps = (\n",
    "    wiki_comparision[wiki_comparision['project code'] == 'wikipedia']\n",
    "    .reset_index(drop=True)\n",
    "    .iloc[:150, :]['database code']\n",
    "    .values.tolist()\n",
    ")"
   ]
  },
  {
   "cell_type": "code",
   "execution_count": 26,
   "id": "1d2b5007-06c7-4ddf-8ab9-ecabe0a5070d",
   "metadata": {},
   "outputs": [],
   "source": [
    "for wiki in top150_wps:\n",
    "    dataset = generate_dataset(wiki)\n",
    "    dataset.to_csv(f'samples/25K/revert_risk_dataset_{wiki}.tsv', sep='\\t', index=False)"
   ]
  },
  {
   "cell_type": "code",
   "execution_count": 47,
   "id": "a107d9f5-25d0-4917-9e03-d6634f0f8ae7",
   "metadata": {},
   "outputs": [
    {
     "name": "stdout",
     "output_type": "stream",
     "text": [
      "<class 'pandas.core.frame.DataFrame'>\n",
      "RangeIndex: 2264170 entries, 0 to 2264169\n",
      "Data columns (total 16 columns):\n",
      " #   Column                         Dtype  \n",
      "---  ------                         -----  \n",
      " 0   event_user_text                object \n",
      " 1   rev_id                         int64  \n",
      " 2   revision_revert_risk           float64\n",
      " 3   wiki_db                        object \n",
      " 4   revision_is_identity_reverted  bool   \n",
      " 5   event_user_revision_count      float64\n",
      " 6   user_is_anonymous              bool   \n",
      " 7   user_is_bot                    bool   \n",
      " 8   page_title                     object \n",
      " 9   is_sysop                       bool   \n",
      " 10  is_page_creation               bool   \n",
      " 11  is_newcomer_task               bool   \n",
      " 12  is_cx_edit                     bool   \n",
      " 13  reverting_edit                 bool   \n",
      " 14  is_high_revert_risk            bool   \n",
      " 15  is_self_revert                 object \n",
      "dtypes: bool(9), float64(2), int64(1), object(4)\n",
      "memory usage: 140.4+ MB\n"
     ]
    }
   ],
   "source": [
    "dataset_all = pd.DataFrame()\n",
    "\n",
    "for filename in os.listdir('samples/25K/'):\n",
    "    if filename.endswith('.tsv'):        \n",
    "        dataset = pd.read_csv(f'samples/25K/{filename}', sep='\\t')\n",
    "        dataset_all = pd.concat([dataset_all, dataset])\n",
    "    \n",
    "dataset_all.reset_index(drop=True, inplace=True)\n",
    "dataset_all.to_csv('samples/revert_risk_dataset_all_25K.tsv', sep='\\t', index=False)\n",
    "dataset_all.info()"
   ]
  },
  {
   "cell_type": "markdown",
   "id": "3fe438f9-9487-4964-ab72-94340b78ecfd",
   "metadata": {},
   "source": [
    "### Downsize to 5K per Wikipedia"
   ]
  },
  {
   "cell_type": "code",
   "execution_count": 48,
   "id": "b6b337b8-fe90-42b4-a2bb-a174ea986ccb",
   "metadata": {},
   "outputs": [],
   "source": [
    "revert_risk_dataset_all = pd.read_csv('samples/revert_risk_dataset_all_25K.tsv', sep='\\t')"
   ]
  },
  {
   "cell_type": "code",
   "execution_count": 56,
   "id": "19cb7779-abf2-414e-9094-c90bb3bd3b51",
   "metadata": {},
   "outputs": [],
   "source": [
    "def conditional_resample(wiki, df=revert_risk_dataset_all, sample_size=5000, bot_false_ratio=0.95):\n",
    "\n",
    "    wiki_df = df.query(\"\"\"wiki_db == @wiki\"\"\")\n",
    "    n_rows = len(wiki_df)\n",
    "    \n",
    "    if n_rows <= sample_size:\n",
    "        return wiki_df\n",
    "    else:\n",
    "        n_false = int(sample_size * bot_false_ratio)\n",
    "        n_true = sample_size - n_false\n",
    "\n",
    "        false_df = wiki_df[wiki_df['user_is_bot'] == False]\n",
    "        true_df = wiki_df[wiki_df['user_is_bot'] == True]\n",
    "\n",
    "        false_sample = false_df.sample(n=n_false, random_state=42) if len(false_df) > n_false else false_df\n",
    "        true_sample = true_df.sample(n=n_true, random_state=42) if len(true_df) > n_true else true_df\n",
    "\n",
    "        return pd.concat([false_sample, true_sample], ignore_index=True)"
   ]
  },
  {
   "cell_type": "code",
   "execution_count": 57,
   "id": "908bccd7-2db7-4b5f-b990-8c3a155f0904",
   "metadata": {},
   "outputs": [
    {
     "name": "stdout",
     "output_type": "stream",
     "text": [
      "<class 'pandas.core.frame.DataFrame'>\n",
      "RangeIndex: 719693 entries, 0 to 719692\n",
      "Data columns (total 16 columns):\n",
      " #   Column                         Non-Null Count   Dtype  \n",
      "---  ------                         --------------   -----  \n",
      " 0   event_user_text                718634 non-null  object \n",
      " 1   rev_id                         719693 non-null  int64  \n",
      " 2   revision_revert_risk           691652 non-null  float64\n",
      " 3   wiki_db                        719693 non-null  object \n",
      " 4   revision_is_identity_reverted  719693 non-null  bool   \n",
      " 5   event_user_revision_count      503967 non-null  float64\n",
      " 6   user_is_anonymous              719693 non-null  bool   \n",
      " 7   user_is_bot                    719693 non-null  bool   \n",
      " 8   page_title                     719685 non-null  object \n",
      " 9   is_sysop                       719693 non-null  bool   \n",
      " 10  is_page_creation               719693 non-null  bool   \n",
      " 11  is_newcomer_task               719693 non-null  bool   \n",
      " 12  is_cx_edit                     719693 non-null  bool   \n",
      " 13  reverting_edit                 719693 non-null  bool   \n",
      " 14  is_high_revert_risk            719693 non-null  bool   \n",
      " 15  is_self_revert                 55135 non-null   object \n",
      "dtypes: bool(9), float64(2), int64(1), object(4)\n",
      "memory usage: 44.6+ MB\n"
     ]
    }
   ],
   "source": [
    "dataset_all_5K = pd.DataFrame()\n",
    "\n",
    "for wp in top150_wps:\n",
    "    sample_5K = conditional_resample(wp)\n",
    "    sample_5K.to_csv(f'samples/5K/revert_risk_dataset_{wp}.tsv', sep='\\t', index=False)\n",
    "    \n",
    "    dataset_all_5K = pd.concat([dataset_all_5K, sample_5K])\n",
    "\n",
    "dataset_all_5K.reset_index(drop=True, inplace=True)\n",
    "dataset_all_5K.to_csv('samples/revert_risk_dataset_all_5K.tsv', sep='\\t', index=False)\n",
    "dataset_all_5K.info()"
   ]
  }
 ],
 "metadata": {
  "kernelspec": {
   "display_name": "Python 3 (ipykernel)",
   "language": "python",
   "name": "python3"
  },
  "language_info": {
   "codemirror_mode": {
    "name": "ipython",
    "version": 3
   },
   "file_extension": ".py",
   "mimetype": "text/x-python",
   "name": "python",
   "nbconvert_exporter": "python",
   "pygments_lexer": "ipython3",
   "version": "3.10.8"
  }
 },
 "nbformat": 4,
 "nbformat_minor": 5
}
