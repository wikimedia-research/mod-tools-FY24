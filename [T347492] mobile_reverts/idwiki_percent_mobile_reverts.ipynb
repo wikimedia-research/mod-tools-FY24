{
 "cells": [
  {
   "cell_type": "markdown",
   "id": "e300003a-ad29-4eb9-8fd8-9999a99a0e03",
   "metadata": {},
   "source": [
    "**Task: [T347492](https://phabricator.wikimedia.org/T347492)**\n",
    "\n",
    "1. [Data Gathering](#Data-Gathering)\n",
    "2. [Resuts](#Results)"
   ]
  },
  {
   "cell_type": "markdown",
   "id": "2b441bb9-9afb-4c58-b0de-b5095d9d6387",
   "metadata": {
    "tags": []
   },
   "source": [
    "## Data-Gathering"
   ]
  },
  {
   "cell_type": "code",
   "execution_count": 2,
   "id": "930af10b-acaa-4992-9387-2b92b0878415",
   "metadata": {},
   "outputs": [
    {
     "name": "stdout",
     "output_type": "stream",
     "text": [
      "\n"
     ]
    },
    {
     "name": "stderr",
     "output_type": "stream",
     "text": [
      "You are using Wmfdata v2.0.0, but v2.0.1 is available.\n",
      "\n",
      "To update, run `pip install --upgrade git+https://github.com/wikimedia/wmfdata-python.git@release`.\n",
      "\n",
      "To see the changes, refer to https://github.com/wikimedia/wmfdata-python/blob/release/CHANGELOG.md.\n"
     ]
    }
   ],
   "source": [
    "import pandas as pd\n",
    "import wmfdata as wmf\n",
    "\n",
    "pd.options.display.max_columns = None\n",
    "from IPython.display import clear_output\n",
    "\n",
    "import warnings\n",
    "from collections import Counter"
   ]
  },
  {
   "cell_type": "markdown",
   "id": "51ddd04e-2fc0-4032-9294-7f9473203710",
   "metadata": {
    "tags": []
   },
   "source": [
    "### spark_session"
   ]
  },
  {
   "cell_type": "code",
   "execution_count": 3,
   "id": "e4407a85-615b-46a3-93b6-903aa0fb9af1",
   "metadata": {
    "tags": []
   },
   "outputs": [
    {
     "name": "stdout",
     "output_type": "stream",
     "text": [
      "no active session\n"
     ]
    }
   ],
   "source": [
    "spark_session = wmf.spark.get_active_session()\n",
    "\n",
    "if type(spark_session) != type(None):\n",
    "    spark_session.stop()\n",
    "else:\n",
    "    print('no active session')"
   ]
  },
  {
   "cell_type": "code",
   "execution_count": 4,
   "id": "f084038f-f1ec-4e47-97f7-a712e842fdf0",
   "metadata": {},
   "outputs": [
    {
     "data": {
      "text/html": [
       "\n",
       "            <div>\n",
       "                <p><b>SparkSession - hive</b></p>\n",
       "                \n",
       "        <div>\n",
       "            <p><b>SparkContext</b></p>\n",
       "\n",
       "            <p><a href=\"http://stat1005.eqiad.wmnet:4045\">Spark UI</a></p>\n",
       "\n",
       "            <dl>\n",
       "              <dt>Version</dt>\n",
       "                <dd><code>v3.1.2</code></dd>\n",
       "              <dt>Master</dt>\n",
       "                <dd><code>yarn</code></dd>\n",
       "              <dt>AppName</dt>\n",
       "                <dd><code>idwiki-mobile-reverts</code></dd>\n",
       "            </dl>\n",
       "        </div>\n",
       "        \n",
       "            </div>\n",
       "        "
      ],
      "text/plain": [
       "<pyspark.sql.session.SparkSession at 0x7f4125cdba90>"
      ]
     },
     "execution_count": 4,
     "metadata": {},
     "output_type": "execute_result"
    }
   ],
   "source": [
    "spark_session = wmf.spark.create_custom_session(\n",
    "    master=\"yarn\",\n",
    "    app_name='idwiki-mobile-reverts',\n",
    "    spark_config={\n",
    "        \"spark.driver.memory\": \"4g\",\n",
    "        \"spark.dynamicAllocation.maxExecutors\": 64,\n",
    "        \"spark.executor.memory\": \"16g\",\n",
    "        \"spark.executor.cores\": 4,\n",
    "        \"spark.sql.shuffle.partitions\": 256,\n",
    "        \"spark.driver.maxResultSize\": \"2g\"\n",
    "        \n",
    "    }\n",
    ")\n",
    "\n",
    "clear_output()\n",
    "\n",
    "spark_session"
   ]
  },
  {
   "cell_type": "code",
   "execution_count": 5,
   "id": "6f57339d-71f5-4437-a16a-3d76449a825f",
   "metadata": {},
   "outputs": [],
   "source": [
    "spark_session.sparkContext.setLogLevel(\"ERROR\")"
   ]
  },
  {
   "cell_type": "markdown",
   "id": "556a8143-5408-48bd-b7da-3b0c3bc75f3b",
   "metadata": {},
   "source": [
    "### query "
   ]
  },
  {
   "cell_type": "code",
   "execution_count": 6,
   "id": "75468d87-58b0-4c4b-8004-aa90a2b884fe",
   "metadata": {},
   "outputs": [],
   "source": [
    "warnings.filterwarnings('ignore')\n",
    "\n",
    "reverts_query = \"\"\"\n",
    "WITH\n",
    "    reverts AS (\n",
    "        SELECT\n",
    "            MONTH(event_timestamp) AS month,\n",
    "            revision_id,\n",
    "            event_user_is_anonymous,\n",
    "            CASE\n",
    "                WHEN event_user_revision_count <= 250 THEN TRUE\n",
    "                ELSE FALSE\n",
    "            END AS is_newcomer,\n",
    "            page_namespace_is_content,\n",
    "            wiki_db\n",
    "        FROM\n",
    "            wmf.mediawiki_history\n",
    "        WHERE \n",
    "            snapshot = '2023-09'\n",
    "            AND wiki_db = 'idwiki'\n",
    "            AND SIZE(event_user_is_bot_by) = 0\n",
    "            AND YEAR(event_timestamp) = 2023\n",
    "            AND revision_is_identity_revert\n",
    "            AND MONTH(event_timestamp) IN (8, 9)\n",
    "        )\n",
    "        \n",
    "SELECT\n",
    "    rv.*,\n",
    "    useragent.device_family,\n",
    "    event.action\n",
    "FROM\n",
    "    reverts rv\n",
    "    LEFT JOIN event.editattemptstep eas \n",
    "    ON rv.wiki_db = eas.wiki \n",
    "        AND rv.revision_id = event.revision_id\n",
    "\"\"\"\n",
    "\n",
    "reverts = (wmf\n",
    "           .spark\n",
    "           .run(reverts_query)\n",
    "           .dropna()\n",
    "           .drop_duplicates('revision_id', ignore_index=True))\n",
    "\n",
    "clear_output()"
   ]
  },
  {
   "cell_type": "code",
   "execution_count": 7,
   "id": "69cbc464-d991-4185-a8b4-52f7e2154ac7",
   "metadata": {},
   "outputs": [],
   "source": [
    "# due to a bug https://phabricator.wikimedia.org/T249944; as Oct 2023, EditAttemptStep logs an editor as desktop user if they force desktop mode on mobile\n",
    "# however, we can get close to accurate results by capturing various device families related to mobiles\n",
    "# the initial list was from https://github.com/wikimedia-research/No-js-edit-analysis-2021/blob/main/wikitext_edits_nojs_analysis.ipynb\n",
    "\n",
    "patterns = ['mobi','240x240','240x320','320x320','alcatel','android','audiovox','bada','benq','blackberry',\n",
    "            'cdm-', 'compal-','docomo','ericsson','hiptop','htc[-_]','huawei','ipod','kddi-','kindle', 'meego',\n",
    "            'midp','mitsu', 'mmp\\\\/','mot-','motor','ngm_','nintendo','opera.m','palm','panasonic','philips','phone',\n",
    "            'playstation', 'portalmmm','sagem-','samsung','sanyo','sec-','sendo','sharp','silk','softbank',\n",
    "            'symbian','teleca', 'up.browser','webos', 'oppo', 'infinix', 'xiaomi', 'redmi', 'vivo']\n",
    "\n",
    "patterns_start = ['lg-', 'sie-', 'nec-', 'lge-', 'sgh-', 'pg-', 'sm-', 'rmx', 'cph']"
   ]
  },
  {
   "cell_type": "code",
   "execution_count": 8,
   "id": "a0767a3b-df0a-4d7d-a2eb-e5981e16ca16",
   "metadata": {},
   "outputs": [],
   "source": [
    "# covert to lower case\n",
    "reverts['device_family'] = reverts['device_family'].str.lower()\n",
    "\n",
    "# join patterns with OR operator\n",
    "pattern_str = '|'.join(patterns)\n",
    "pattern_start_str = '|'.join(patterns_start)\n",
    "\n",
    "# set default as desktop\n",
    "reverts['device_type'] = 'desktop'\n",
    "\n",
    "# change to mobile where there is a match\n",
    "mask = reverts['device_family'].str.contains(pattern_str, regex=True) | reverts['device_family'].str.startswith(tuple(pattern_start_str))\n",
    "reverts.loc[mask, 'device_type'] = 'mobile'"
   ]
  },
  {
   "cell_type": "markdown",
   "id": "58cc6e71-3813-4f59-8161-74dac56f9bf4",
   "metadata": {},
   "source": [
    "## Results"
   ]
  },
  {
   "cell_type": "code",
   "execution_count": 19,
   "id": "1c4259d1-b76f-4ad9-b6c4-c7266c9a7b36",
   "metadata": {},
   "outputs": [
    {
     "name": "stdout",
     "output_type": "stream",
     "text": [
      "Proportion of reverts made by device (newcomers: less than 250 edits)\n",
      "\n",
      "absolute\n",
      "desktop    654\n",
      "mobile     243\n",
      "Name: device_type, dtype: int64\n",
      "\n",
      "as percentage\n",
      "desktop    72.909699\n",
      "mobile     27.090301\n",
      "Name: device_type, dtype: float64\n"
     ]
    }
   ],
   "source": [
    "print('Proportion of reverts made by device (newcomers: less than 250 edits)')\n",
    "print('\\nabsolute')\n",
    "print(reverts.query(\"\"\"is_newcomer == True\"\"\").device_type.value_counts())\n",
    "print('\\nas percentage')\n",
    "print(reverts.query(\"\"\"is_newcomer == True\"\"\").device_type.value_counts(normalize=True) * 100)"
   ]
  },
  {
   "cell_type": "code",
   "execution_count": 20,
   "id": "df89af99-184c-469f-b5fc-cdddce49a870",
   "metadata": {},
   "outputs": [
    {
     "name": "stdout",
     "output_type": "stream",
     "text": [
      "Proportion of reverts made by device (newcomers: less than 250 edits)\n",
      "\n",
      "absolute\n",
      "desktop    5308\n",
      "mobile     1915\n",
      "Name: device_type, dtype: int64\n",
      "\n",
      "as percentage\n",
      "desktop    73.487471\n",
      "mobile     26.512529\n",
      "Name: device_type, dtype: float64\n"
     ]
    }
   ],
   "source": [
    "print('Proportion of reverts made by device (newcomers: less than 250 edits)')\n",
    "print('\\nabsolute')\n",
    "print(reverts.query(\"\"\"is_newcomer == False\"\"\").device_type.value_counts())\n",
    "print('\\nas percentage')\n",
    "print(reverts.query(\"\"\"is_newcomer == False\"\"\").device_type.value_counts(normalize=True) * 100)"
   ]
  },
  {
   "cell_type": "markdown",
   "id": "75796dd4-efd9-4231-9f0b-a81c2dca7093",
   "metadata": {},
   "source": [
    "## Misc"
   ]
  },
  {
   "cell_type": "code",
   "execution_count": null,
   "id": "c8a2d101-5cb2-4a0a-ab7c-2ce140084846",
   "metadata": {},
   "outputs": [],
   "source": [
    "# used to update list of device family\n",
    "# a few updates include 'oppo', 'infinix', 'xiaomi', 'redmi', 'vivo' & 'sm-', 'rmx', 'cph'\n",
    "\n",
    "def count_word_frequencies(text_list):\n",
    "    combined_text = \" \".join(filter(None, text_list))\n",
    "\n",
    "    words = combined_text.split()\n",
    "\n",
    "    word_freq = Counter(words)\n",
    "\n",
    "    return dict(word_freq)\n",
    "\n",
    "count_word_frequencies(reverts.dropna().drop_duplicates('revision_id').device_family.values)"
   ]
  }
 ],
 "metadata": {
  "kernelspec": {
   "display_name": "Python 3 (ipykernel)",
   "language": "python",
   "name": "python3"
  },
  "language_info": {
   "codemirror_mode": {
    "name": "ipython",
    "version": 3
   },
   "file_extension": ".py",
   "mimetype": "text/x-python",
   "name": "python",
   "nbconvert_exporter": "python",
   "pygments_lexer": "ipython3",
   "version": "3.10.8"
  }
 },
 "nbformat": 4,
 "nbformat_minor": 5
}
