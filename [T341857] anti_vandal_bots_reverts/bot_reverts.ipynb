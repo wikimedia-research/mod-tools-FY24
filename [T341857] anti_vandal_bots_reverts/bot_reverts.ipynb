{
 "cells": [
  {
   "cell_type": "markdown",
   "id": "da5bc7f6-fe32-4f13-949e-3f955e4b4a4e",
   "metadata": {
    "tags": []
   },
   "source": [
    "## imports"
   ]
  },
  {
   "cell_type": "code",
   "execution_count": null,
   "id": "07766749-abfd-4afc-b2ee-376c5ee76715",
   "metadata": {},
   "outputs": [],
   "source": [
    "import wmfdata as wmf\n",
    "import pandas as pd\n",
    "import numpy as np"
   ]
  },
  {
   "cell_type": "code",
   "execution_count": null,
   "id": "cc2e90ce-2ccc-44e5-82ee-cdd94e01c595",
   "metadata": {},
   "outputs": [],
   "source": [
    "import json\n",
    "import re\n",
    "import warnings"
   ]
  },
  {
   "cell_type": "code",
   "execution_count": null,
   "id": "c6df215a-7385-45f7-9a76-1cc7de4206a9",
   "metadata": {},
   "outputs": [],
   "source": [
    "pd.options.display.max_columns = None\n",
    "bold = '\\033[1m'\n",
    "end = '\\033[0m'"
   ]
  },
  {
   "cell_type": "markdown",
   "id": "dbb2de01-e418-4d4a-aee6-52251e0a0289",
   "metadata": {
    "tags": []
   },
   "source": [
    "## spark_session"
   ]
  },
  {
   "cell_type": "code",
   "execution_count": null,
   "id": "a70f332f-ce3c-47ee-9b07-a5028a511611",
   "metadata": {
    "tags": []
   },
   "outputs": [],
   "source": [
    "spark_session = wmf.spark.get_active_session()\n",
    "\n",
    "if type(spark_session) != type(None):\n",
    "    spark_session.stop()\n",
    "else:\n",
    "    print('no active session')"
   ]
  },
  {
   "cell_type": "code",
   "execution_count": null,
   "id": "0283af2a-ee0a-43e7-be6f-96644e5b67ba",
   "metadata": {},
   "outputs": [],
   "source": [
    "spark_session = wmf.spark.create_custom_session(\n",
    "    master=\"yarn\",\n",
    "    app_name='bot-vandal-reverts',\n",
    "    spark_config={\n",
    "        \"spark.driver.memory\": \"4g\",\n",
    "        \"spark.dynamicAllocation.maxExecutors\": 64,\n",
    "        \"spark.executor.memory\": \"20g\",\n",
    "        \"spark.executor.cores\": 4,\n",
    "        \"spark.sql.shuffle.partitions\": 256,\n",
    "        \"spark.driver.maxResultSize\": \"2g\"\n",
    "        \n",
    "    }\n",
    ")"
   ]
  },
  {
   "cell_type": "code",
   "execution_count": null,
   "id": "ded53def-e890-490b-a012-d73d9c9e4fb9",
   "metadata": {},
   "outputs": [],
   "source": [
    "# ig_warn()\n",
    "# spark_session = wmf.spark.create_session(type='yarn-large')\n",
    "spark_session"
   ]
  },
  {
   "cell_type": "code",
   "execution_count": null,
   "id": "7fcec281-6860-4655-893e-a1016b185bf4",
   "metadata": {},
   "outputs": [],
   "source": [
    "spark_session.sparkContext.setLogLevel(\"ERROR\")"
   ]
  },
  {
   "cell_type": "markdown",
   "id": "7e7c3d6e-7bec-45d9-89da-f680b7968fd5",
   "metadata": {},
   "source": [
    "## data"
   ]
  },
  {
   "cell_type": "code",
   "execution_count": null,
   "id": "06d75af3-30bf-401d-9568-b0ca0a937b6a",
   "metadata": {},
   "outputs": [],
   "source": [
    "bots = {\n",
    "    'enwiki': 'ClueBot NG',\n",
    "    'eswiki': 'SeroBOT',\n",
    "    'frwiki': 'Salebot',\n",
    "    'ptwiki': 'Salebot',\n",
    "    'fawiki': 'Dexbot',\n",
    "    'bgwiki': 'PSS 9',\n",
    "    'simplewiki': 'ChenzwBot',\n",
    "    'ruwiki': 'Рейму Хакурей',\n",
    "    'rowiki': 'PatrocleBot'\n",
    "}"
   ]
  },
  {
   "cell_type": "code",
   "execution_count": 105,
   "id": "6e836803-4d7d-4ba5-9300-32c034b8cb6c",
   "metadata": {},
   "outputs": [
    {
     "name": "stderr",
     "output_type": "stream",
     "text": [
      "[Stage 75:==================================================>  (244 + 12) / 256]\r"
     ]
    },
    {
     "name": "stdout",
     "output_type": "stream",
     "text": [
      "CPU times: user 555 ms, sys: 52.2 ms, total: 607 ms\n",
      "Wall time: 2min 36s\n"
     ]
    },
    {
     "name": "stderr",
     "output_type": "stream",
     "text": [
      "                                                                                \r"
     ]
    }
   ],
   "source": [
    "%%time\n",
    "\n",
    "query = \"\"\"\n",
    "WITH \n",
    "    base AS (\n",
    "        SELECT \n",
    "            wiki_db,\n",
    "            revision_id,\n",
    "            event_timestamp,\n",
    "            revision_first_identity_reverting_revision_id,\n",
    "            revision_seconds_to_identity_revert\n",
    "        FROM \n",
    "            wmf.mediawiki_history\n",
    "        WHERE \n",
    "            snapshot = '{MW_SNAPSHOT}'\n",
    "            AND wiki_db IN {DBS}\n",
    "            AND event_entity = 'revision'\n",
    "            AND event_type = 'create'\n",
    "            AND revision_is_identity_reverted\n",
    "            AND page_namespace_is_content\n",
    "            AND revision_seconds_to_identity_revert <= 24 * 60 * 60\n",
    "            AND DATE (event_timestamp) >= DATE ('{START_DATE}')\n",
    "            AND DATE (event_timestamp) <= DATE ('{END_DATE}')\n",
    "            AND NOT revision_parent_id = 0\n",
    "        )\n",
    "            \n",
    "SELECT \n",
    "    mwh.wiki_db,\n",
    "    YEAR(mwh.event_timestamp) AS year,\n",
    "    MONTH(mwh.event_timestamp) AS month,\n",
    "    DAY(mwh.event_timestamp) AS day,\n",
    "    COUNT(DISTINCT mwh.revision_id) AS all_reverts,\n",
    "    COUNT(DISTINCT (\n",
    "            CASE \n",
    "                WHEN event_user_text IN {BOTS}\n",
    "                     THEN mwh.revision_id\n",
    "            END)) AS bot_reverts,\n",
    "    COUNT(DISTINCT (\n",
    "            CASE \n",
    "                WHEN event_user_text IN {BOTS}\n",
    "                     AND mwh.revision_is_identity_reverted = True\n",
    "                     THEN mwh.revision_id\n",
    "            END)) AS false_positives\n",
    "FROM \n",
    "    base\n",
    "JOIN wmf.mediawiki_history mwh\n",
    "     ON base.revision_first_identity_reverting_revision_id = mwh.revision_id\n",
    "        AND base.wiki_db = mwh.wiki_db\n",
    "WHERE \n",
    "    snapshot = '{MW_SNAPSHOT}'\n",
    "GROUP BY \n",
    "    YEAR(mwh.event_timestamp),\n",
    "    MONTH(mwh.event_timestamp),\n",
    "    DAY(mwh.event_timestamp),\n",
    "    mwh.wiki_db\n",
    "\"\"\"\n",
    "\n",
    "time_bounds = ['2020-07-01', '2023-06-30']\n",
    "mw_snapshot = '2023-06'\n",
    "bot_revert_counts = wmf.spark.run(query.format(DBS=wmf.utils.sql_tuple(bots.keys()),\n",
    "                                               BOTS=wmf.utils.sql_tuple(set(bots.values())),\n",
    "                                               START_DATE=time_bounds[0],\n",
    "                                               END_DATE=time_bounds[1],\n",
    "                                               MW_SNAPSHOT=mw_snapshot))"
   ]
  },
  {
   "cell_type": "code",
   "execution_count": 107,
   "id": "e5803d0d-4fd0-4cd7-b360-e2c932f3acb0",
   "metadata": {},
   "outputs": [],
   "source": [
    "bot_revert_counts.to_csv('data_outputs/anti_vandal_bot_revert_counts.tsv', sep='\\t')"
   ]
  },
  {
   "cell_type": "code",
   "execution_count": 148,
   "id": "cb9d1b47-19a7-40d9-9438-c8b6898ef9bc",
   "metadata": {},
   "outputs": [
    {
     "data": {
      "text/html": [
       "<div>\n",
       "<style scoped>\n",
       "    .dataframe tbody tr th:only-of-type {\n",
       "        vertical-align: middle;\n",
       "    }\n",
       "\n",
       "    .dataframe tbody tr th {\n",
       "        vertical-align: top;\n",
       "    }\n",
       "\n",
       "    .dataframe thead th {\n",
       "        text-align: right;\n",
       "    }\n",
       "</style>\n",
       "<table border=\"1\" class=\"dataframe\">\n",
       "  <thead>\n",
       "    <tr style=\"text-align: right;\">\n",
       "      <th></th>\n",
       "      <th></th>\n",
       "      <th>all_reverts</th>\n",
       "      <th>bot_reverts</th>\n",
       "      <th>false_positives</th>\n",
       "      <th>bot_reverts_percent</th>\n",
       "      <th>fpr</th>\n",
       "      <th>fpr_percent</th>\n",
       "    </tr>\n",
       "    <tr>\n",
       "      <th>wiki_db</th>\n",
       "      <th>bot</th>\n",
       "      <th></th>\n",
       "      <th></th>\n",
       "      <th></th>\n",
       "      <th></th>\n",
       "      <th></th>\n",
       "      <th></th>\n",
       "    </tr>\n",
       "  </thead>\n",
       "  <tbody>\n",
       "    <tr>\n",
       "      <th>bgwiki</th>\n",
       "      <th>PSS 9</th>\n",
       "      <td>56.0</td>\n",
       "      <td>4.0</td>\n",
       "      <td>0.3</td>\n",
       "      <td>6.45</td>\n",
       "      <td>0.084</td>\n",
       "      <td>8.35</td>\n",
       "    </tr>\n",
       "    <tr>\n",
       "      <th>enwiki</th>\n",
       "      <th>ClueBot NG</th>\n",
       "      <td>6571.0</td>\n",
       "      <td>356.0</td>\n",
       "      <td>33.5</td>\n",
       "      <td>5.41</td>\n",
       "      <td>0.094</td>\n",
       "      <td>9.41</td>\n",
       "    </tr>\n",
       "    <tr>\n",
       "      <th>eswiki</th>\n",
       "      <th>SeroBOT</th>\n",
       "      <td>2123.0</td>\n",
       "      <td>894.0</td>\n",
       "      <td>78.3</td>\n",
       "      <td>42.09</td>\n",
       "      <td>0.088</td>\n",
       "      <td>8.76</td>\n",
       "    </tr>\n",
       "    <tr>\n",
       "      <th>fawiki</th>\n",
       "      <th>Dexbot</th>\n",
       "      <td>393.0</td>\n",
       "      <td>90.0</td>\n",
       "      <td>9.8</td>\n",
       "      <td>22.83</td>\n",
       "      <td>0.110</td>\n",
       "      <td>10.96</td>\n",
       "    </tr>\n",
       "    <tr>\n",
       "      <th>frwiki</th>\n",
       "      <th>Salebot</th>\n",
       "      <td>730.0</td>\n",
       "      <td>26.0</td>\n",
       "      <td>2.9</td>\n",
       "      <td>3.53</td>\n",
       "      <td>0.111</td>\n",
       "      <td>11.09</td>\n",
       "    </tr>\n",
       "    <tr>\n",
       "      <th>ptwiki</th>\n",
       "      <th>Salebot</th>\n",
       "      <td>201.0</td>\n",
       "      <td>0.0</td>\n",
       "      <td>0.0</td>\n",
       "      <td>0.00</td>\n",
       "      <td>NaN</td>\n",
       "      <td>NaN</td>\n",
       "    </tr>\n",
       "    <tr>\n",
       "      <th>rowiki</th>\n",
       "      <th>PatrocleBot</th>\n",
       "      <td>55.0</td>\n",
       "      <td>3.0</td>\n",
       "      <td>0.3</td>\n",
       "      <td>5.59</td>\n",
       "      <td>0.102</td>\n",
       "      <td>10.19</td>\n",
       "    </tr>\n",
       "    <tr>\n",
       "      <th>ruwiki</th>\n",
       "      <th>Рейму Хакурей</th>\n",
       "      <td>709.0</td>\n",
       "      <td>65.0</td>\n",
       "      <td>8.1</td>\n",
       "      <td>9.15</td>\n",
       "      <td>0.125</td>\n",
       "      <td>12.53</td>\n",
       "    </tr>\n",
       "    <tr>\n",
       "      <th>simplewiki</th>\n",
       "      <th>ChenzwBot</th>\n",
       "      <td>89.0</td>\n",
       "      <td>13.0</td>\n",
       "      <td>1.5</td>\n",
       "      <td>14.71</td>\n",
       "      <td>0.115</td>\n",
       "      <td>11.55</td>\n",
       "    </tr>\n",
       "  </tbody>\n",
       "</table>\n",
       "</div>"
      ],
      "text/plain": [
       "                          all_reverts  bot_reverts  false_positives  \\\n",
       "wiki_db    bot                                                        \n",
       "bgwiki     PSS 9                 56.0          4.0              0.3   \n",
       "enwiki     ClueBot NG          6571.0        356.0             33.5   \n",
       "eswiki     SeroBOT             2123.0        894.0             78.3   \n",
       "fawiki     Dexbot               393.0         90.0              9.8   \n",
       "frwiki     Salebot              730.0         26.0              2.9   \n",
       "ptwiki     Salebot              201.0          0.0              0.0   \n",
       "rowiki     PatrocleBot           55.0          3.0              0.3   \n",
       "ruwiki     Рейму Хакурей        709.0         65.0              8.1   \n",
       "simplewiki ChenzwBot             89.0         13.0              1.5   \n",
       "\n",
       "                          bot_reverts_percent    fpr  fpr_percent  \n",
       "wiki_db    bot                                                     \n",
       "bgwiki     PSS 9                         6.45  0.084         8.35  \n",
       "enwiki     ClueBot NG                    5.41  0.094         9.41  \n",
       "eswiki     SeroBOT                      42.09  0.088         8.76  \n",
       "fawiki     Dexbot                       22.83  0.110        10.96  \n",
       "frwiki     Salebot                       3.53  0.111        11.09  \n",
       "ptwiki     Salebot                       0.00    NaN          NaN  \n",
       "rowiki     PatrocleBot                   5.59  0.102        10.19  \n",
       "ruwiki     Рейму Хакурей                 9.15  0.125        12.53  \n",
       "simplewiki ChenzwBot                    14.71  0.115        11.55  "
      ]
     },
     "execution_count": 148,
     "metadata": {},
     "output_type": "execute_result"
    }
   ],
   "source": [
    "percent_bot_reverts = ((bot_revert_counts\n",
    "                        .groupby('wiki_db')\n",
    "                        .agg({'all_reverts': np.mean, \n",
    "                              'bot_reverts': np.mean, \n",
    "                              'false_positives': np.mean}))\n",
    "                       .assign(\n",
    "                           bot_reverts_percent = lambda df: df['bot_reverts'] / df['all_reverts'] * 100,\n",
    "                           fpr = lambda df: df['false_positives'] / df['bot_reverts'],\n",
    "                           fpr_percent = lambda df: df['false_positives'] / df['bot_reverts'] * 100)\n",
    "                       .reset_index()\n",
    "                       .assign(bot = lambda df: df['wiki_db'].map(bots))\n",
    "                       .round({'all_reverts': 0,          \n",
    "                               'bot_reverts': 0, \n",
    "                               'false_positives': 1, \n",
    "                               'bot_reverts_percent': 2,\n",
    "                               'fpr': 3, \n",
    "                               'fpr_percent': 2})\n",
    "                       .set_index(['wiki_db', 'bot']))\n",
    "percent_bot_reverts"
   ]
  },
  {
   "cell_type": "code",
   "execution_count": 149,
   "id": "4a0ce0b7-a9f6-4cc0-9b39-2d420d303394",
   "metadata": {},
   "outputs": [],
   "source": [
    "percent_bot_reverts.to_csv('data_outputs/anti_vandal_bot_revert_percentages.tsv', sep='\\t')"
   ]
  }
 ],
 "metadata": {
  "kernelspec": {
   "display_name": "Python 3 (ipykernel)",
   "language": "python",
   "name": "python3"
  },
  "language_info": {
   "codemirror_mode": {
    "name": "ipython",
    "version": 3
   },
   "file_extension": ".py",
   "mimetype": "text/x-python",
   "name": "python",
   "nbconvert_exporter": "python",
   "pygments_lexer": "ipython3",
   "version": "3.10.8"
  }
 },
 "nbformat": 4,
 "nbformat_minor": 5
}
