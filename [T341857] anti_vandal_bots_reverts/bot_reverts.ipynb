{
 "cells": [
  {
   "cell_type": "markdown",
   "id": "da5bc7f6-fe32-4f13-949e-3f955e4b4a4e",
   "metadata": {
    "tags": []
   },
   "source": [
    "## imports"
   ]
  },
  {
   "cell_type": "code",
   "execution_count": null,
   "id": "07766749-abfd-4afc-b2ee-376c5ee76715",
   "metadata": {},
   "outputs": [],
   "source": [
    "import wmfdata as wmf\n",
    "import pandas as pd\n",
    "import numpy as np"
   ]
  },
  {
   "cell_type": "code",
   "execution_count": null,
   "id": "cc2e90ce-2ccc-44e5-82ee-cdd94e01c595",
   "metadata": {},
   "outputs": [],
   "source": [
    "import json\n",
    "import re\n",
    "import warnings"
   ]
  },
  {
   "cell_type": "code",
   "execution_count": null,
   "id": "c6df215a-7385-45f7-9a76-1cc7de4206a9",
   "metadata": {},
   "outputs": [],
   "source": [
    "pd.options.display.max_columns = None\n",
    "bold = '\\033[1m'\n",
    "end = '\\033[0m'"
   ]
  },
  {
   "cell_type": "markdown",
   "id": "dbb2de01-e418-4d4a-aee6-52251e0a0289",
   "metadata": {
    "tags": []
   },
   "source": [
    "## spark_session"
   ]
  },
  {
   "cell_type": "code",
   "execution_count": null,
   "id": "a70f332f-ce3c-47ee-9b07-a5028a511611",
   "metadata": {
    "tags": []
   },
   "outputs": [],
   "source": [
    "spark_session = wmf.spark.get_active_session()\n",
    "\n",
    "if type(spark_session) != type(None):\n",
    "    spark_session.stop()\n",
    "else:\n",
    "    print('no active session')"
   ]
  },
  {
   "cell_type": "code",
   "execution_count": null,
   "id": "0283af2a-ee0a-43e7-be6f-96644e5b67ba",
   "metadata": {},
   "outputs": [],
   "source": [
    "spark_session = wmf.spark.create_custom_session(\n",
    "    master=\"yarn\",\n",
    "    app_name='bot-vandal-reverts',\n",
    "    spark_config={\n",
    "        \"spark.driver.memory\": \"4g\",\n",
    "        \"spark.dynamicAllocation.maxExecutors\": 64,\n",
    "        \"spark.executor.memory\": \"20g\",\n",
    "        \"spark.executor.cores\": 4,\n",
    "        \"spark.sql.shuffle.partitions\": 256,\n",
    "        \"spark.driver.maxResultSize\": \"2g\"\n",
    "        \n",
    "    }\n",
    ")"
   ]
  },
  {
   "cell_type": "code",
   "execution_count": null,
   "id": "ded53def-e890-490b-a012-d73d9c9e4fb9",
   "metadata": {},
   "outputs": [],
   "source": [
    "# ig_warn()\n",
    "# spark_session = wmf.spark.create_session(type='yarn-large')\n",
    "spark_session"
   ]
  },
  {
   "cell_type": "code",
   "execution_count": null,
   "id": "7fcec281-6860-4655-893e-a1016b185bf4",
   "metadata": {},
   "outputs": [],
   "source": [
    "spark_session.sparkContext.setLogLevel(\"ERROR\")"
   ]
  },
  {
   "cell_type": "markdown",
   "id": "7e7c3d6e-7bec-45d9-89da-f680b7968fd5",
   "metadata": {},
   "source": [
    "## data"
   ]
  },
  {
   "cell_type": "code",
   "execution_count": null,
   "id": "06d75af3-30bf-401d-9568-b0ca0a937b6a",
   "metadata": {},
   "outputs": [],
   "source": [
    "bots = {\n",
    "    'enwiki': 'ClueBot NG',\n",
    "    'eswiki': 'SeroBOT',\n",
    "    'frwiki': 'Salebot',\n",
    "    'ptwiki': 'Salebot',\n",
    "    'fawiki': 'Dexbot',\n",
    "    'bgwiki': 'PSS 9',\n",
    "    'simplewiki': 'ChenzwBot',\n",
    "    'ruwiki': 'Рейму Хакурей',\n",
    "    'rowiki': 'PatrocleBot'\n",
    "}"
   ]
  },
  {
   "cell_type": "code",
   "execution_count": 105,
   "id": "6e836803-4d7d-4ba5-9300-32c034b8cb6c",
   "metadata": {},
   "outputs": [
    {
     "name": "stderr",
     "output_type": "stream",
     "text": [
      "[Stage 75:==================================================>  (244 + 12) / 256]\r"
     ]
    },
    {
     "name": "stdout",
     "output_type": "stream",
     "text": [
      "CPU times: user 555 ms, sys: 52.2 ms, total: 607 ms\n",
      "Wall time: 2min 36s\n"
     ]
    },
    {
     "name": "stderr",
     "output_type": "stream",
     "text": [
      "                                                                                \r"
     ]
    }
   ],
   "source": [
    "%%time\n",
    "\n",
    "query = \"\"\"\n",
    "WITH \n",
    "    base AS (\n",
    "        SELECT \n",
    "            wiki_db,\n",
    "            revision_id,\n",
    "            event_timestamp,\n",
    "            revision_first_identity_reverting_revision_id,\n",
    "            revision_seconds_to_identity_revert\n",
    "        FROM \n",
    "            wmf.mediawiki_history\n",
    "        WHERE \n",
    "            snapshot = '{MW_SNAPSHOT}'\n",
    "            AND wiki_db IN {DBS}\n",
    "            AND event_entity = 'revision'\n",
    "            AND event_type = 'create'\n",
    "            AND revision_is_identity_reverted\n",
    "            AND page_namespace_is_content\n",
    "            AND revision_seconds_to_identity_revert <= 24 * 60 * 60\n",
    "            AND DATE (event_timestamp) >= DATE ('{START_DATE}')\n",
    "            AND DATE (event_timestamp) <= DATE ('{END_DATE}')\n",
    "            AND NOT revision_parent_id = 0\n",
    "        )\n",
    "            \n",
    "SELECT \n",
    "    mwh.wiki_db,\n",
    "    YEAR(mwh.event_timestamp) AS year,\n",
    "    MONTH(mwh.event_timestamp) AS month,\n",
    "    DAY(mwh.event_timestamp) AS day,\n",
    "    COUNT(DISTINCT mwh.revision_id) AS all_reverts,\n",
    "    COUNT(DISTINCT (\n",
    "            CASE \n",
    "                WHEN event_user_text IN {BOTS}\n",
    "                     THEN mwh.revision_id\n",
    "            END)) AS bot_reverts,\n",
    "    COUNT(DISTINCT (\n",
    "            CASE \n",
    "                WHEN event_user_text IN {BOTS}\n",
    "                     AND mwh.revision_is_identity_reverted = True\n",
    "                     THEN mwh.revision_id\n",
    "            END)) AS false_positives\n",
    "FROM \n",
    "    base\n",
    "JOIN wmf.mediawiki_history mwh\n",
    "     ON base.revision_first_identity_reverting_revision_id = mwh.revision_id\n",
    "        AND base.wiki_db = mwh.wiki_db\n",
    "WHERE \n",
    "    snapshot = '{MW_SNAPSHOT}'\n",
    "GROUP BY \n",
    "    YEAR(mwh.event_timestamp),\n",
    "    MONTH(mwh.event_timestamp),\n",
    "    DAY(mwh.event_timestamp),\n",
    "    mwh.wiki_db\n",
    "\"\"\"\n",
    "\n",
    "time_bounds = ['2020-07-01', '2023-06-30']\n",
    "mw_snapshot = '2023-06'\n",
    "result = wmf.spark.run(query.format(DBS=wmf.utils.sql_tuple(bots.keys()),\n",
    "                                    BOTS=wmf.utils.sql_tuple(set(bots.values())),\n",
    "                                    START_DATE=time_bounds[0],\n",
    "                                    END_DATE=time_bounds[1],\n",
    "                                    MW_SNAPSHOT=mw_snapshot))"
   ]
  },
  {
   "cell_type": "code",
   "execution_count": null,
   "id": "85de5cc8-db89-43d1-836c-b596ae96a12c",
   "metadata": {},
   "outputs": [],
   "source": []
  }
 ],
 "metadata": {
  "kernelspec": {
   "display_name": "Python 3 (ipykernel)",
   "language": "python",
   "name": "python3"
  },
  "language_info": {
   "codemirror_mode": {
    "name": "ipython",
    "version": 3
   },
   "file_extension": ".py",
   "mimetype": "text/x-python",
   "name": "python",
   "nbconvert_exporter": "python",
   "pygments_lexer": "ipython3",
   "version": "3.10.8"
  }
 },
 "nbformat": 4,
 "nbformat_minor": 5
}
