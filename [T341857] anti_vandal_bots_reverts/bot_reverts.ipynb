{
 "cells": [
  {
   "cell_type": "markdown",
   "id": "da5bc7f6-fe32-4f13-949e-3f955e4b4a4e",
   "metadata": {
    "tags": []
   },
   "source": [
    "## imports"
   ]
  },
  {
   "cell_type": "code",
   "execution_count": 1,
   "id": "07766749-abfd-4afc-b2ee-376c5ee76715",
   "metadata": {},
   "outputs": [],
   "source": [
    "import wmfdata as wmf\n",
    "import pandas as pd\n",
    "import numpy as np"
   ]
  },
  {
   "cell_type": "code",
   "execution_count": 2,
   "id": "cc2e90ce-2ccc-44e5-82ee-cdd94e01c595",
   "metadata": {},
   "outputs": [],
   "source": [
    "import json\n",
    "import re\n",
    "import warnings"
   ]
  },
  {
   "cell_type": "code",
   "execution_count": 3,
   "id": "c6df215a-7385-45f7-9a76-1cc7de4206a9",
   "metadata": {},
   "outputs": [],
   "source": [
    "pd.options.display.max_columns = None\n",
    "bold = '\\033[1m'\n",
    "end = '\\033[0m'"
   ]
  },
  {
   "cell_type": "markdown",
   "id": "dbb2de01-e418-4d4a-aee6-52251e0a0289",
   "metadata": {
    "tags": []
   },
   "source": [
    "## spark_session"
   ]
  },
  {
   "cell_type": "code",
   "execution_count": 4,
   "id": "a70f332f-ce3c-47ee-9b07-a5028a511611",
   "metadata": {
    "tags": []
   },
   "outputs": [
    {
     "name": "stdout",
     "output_type": "stream",
     "text": [
      "no active session\n"
     ]
    }
   ],
   "source": [
    "spark_session = wmf.spark.get_active_session()\n",
    "\n",
    "if type(spark_session) != type(None):\n",
    "    spark_session.stop()\n",
    "else:\n",
    "    print('no active session')"
   ]
  },
  {
   "cell_type": "code",
   "execution_count": 6,
   "id": "0283af2a-ee0a-43e7-be6f-96644e5b67ba",
   "metadata": {},
   "outputs": [
    {
     "name": "stdout",
     "output_type": "stream",
     "text": [
      "SPARK_HOME: /usr/lib/spark3\n",
      "Using Hadoop client lib jars at 3.2.0, provided by Spark.\n",
      "PYSPARK_PYTHON=/opt/conda-analytics/bin/python3\n"
     ]
    },
    {
     "name": "stderr",
     "output_type": "stream",
     "text": [
      "Setting default log level to \"WARN\".\n",
      "To adjust logging level use sc.setLogLevel(newLevel). For SparkR, use setLogLevel(newLevel).\n",
      "23/07/25 06:48:08 WARN SparkConf: Note that spark.local.dir will be overridden by the value set by the cluster manager (via SPARK_LOCAL_DIRS in mesos/standalone/kubernetes and LOCAL_DIRS in YARN).\n",
      "23/07/25 06:48:09 WARN Utils: Service 'sparkDriver' could not bind on port 12000. Attempting port 12001.\n",
      "23/07/25 06:48:09 WARN Utils: Service 'SparkUI' could not bind on port 4040. Attempting port 4041.\n",
      "23/07/25 06:48:18 WARN Utils: Service 'org.apache.spark.network.netty.NettyBlockTransferService' could not bind on port 13000. Attempting port 13001.\n",
      "23/07/25 06:48:18 WARN Utils: Service 'org.apache.spark.network.netty.NettyBlockTransferService' could not bind on port 13001. Attempting port 13002.\n",
      "23/07/25 06:48:18 WARN YarnSchedulerBackend$YarnSchedulerEndpoint: Attempted to request executors before the AM has registered!\n"
     ]
    }
   ],
   "source": [
    "spark_session = wmf.spark.create_custom_session(\n",
    "    master=\"yarn\",\n",
    "    app_name='bot-vandal-reverts',\n",
    "    spark_config={\n",
    "        \"spark.driver.memory\": \"4g\",\n",
    "        \"spark.dynamicAllocation.maxExecutors\": 64,\n",
    "        \"spark.executor.memory\": \"20g\",\n",
    "        \"spark.executor.cores\": 4,\n",
    "        \"spark.sql.shuffle.partitions\": 256,\n",
    "        \"spark.driver.maxResultSize\": \"2g\"\n",
    "        \n",
    "    }\n",
    ")"
   ]
  },
  {
   "cell_type": "code",
   "execution_count": 5,
   "id": "ded53def-e890-490b-a012-d73d9c9e4fb9",
   "metadata": {},
   "outputs": [
    {
     "data": {
      "text/html": [
       "\n",
       "            <div>\n",
       "                <p><b>SparkSession - hive</b></p>\n",
       "                \n",
       "        <div>\n",
       "            <p><b>SparkContext</b></p>\n",
       "\n",
       "            <p><a href=\"http://stat1005.eqiad.wmnet:4049\">Spark UI</a></p>\n",
       "\n",
       "            <dl>\n",
       "              <dt>Version</dt>\n",
       "                <dd><code>v3.1.2</code></dd>\n",
       "              <dt>Master</dt>\n",
       "                <dd><code>yarn</code></dd>\n",
       "              <dt>AppName</dt>\n",
       "                <dd><code>bot-vandal-reverts</code></dd>\n",
       "            </dl>\n",
       "        </div>\n",
       "        \n",
       "            </div>\n",
       "        "
      ],
      "text/plain": [
       "<pyspark.sql.session.SparkSession at 0x7f8cc58d4340>"
      ]
     },
     "execution_count": 5,
     "metadata": {},
     "output_type": "execute_result"
    }
   ],
   "source": [
    "# ig_warn()\n",
    "# spark_session = wmf.spark.create_session(type='yarn-large')\n",
    "spark_session"
   ]
  },
  {
   "cell_type": "code",
   "execution_count": 8,
   "id": "7fcec281-6860-4655-893e-a1016b185bf4",
   "metadata": {},
   "outputs": [],
   "source": [
    "spark_session.sparkContext.setLogLevel(\"ERROR\")"
   ]
  },
  {
   "cell_type": "markdown",
   "id": "7e7c3d6e-7bec-45d9-89da-f680b7968fd5",
   "metadata": {},
   "source": [
    "## data"
   ]
  },
  {
   "cell_type": "code",
   "execution_count": 9,
   "id": "06d75af3-30bf-401d-9568-b0ca0a937b6a",
   "metadata": {},
   "outputs": [],
   "source": [
    "bots = {\n",
    "    'enwiki': 'ClueBot NG',\n",
    "    'eswiki': 'SeroBOT',\n",
    "    'frwiki': 'Salebot',\n",
    "    'ptwiki': 'Salebot',\n",
    "    'fawiki': 'Dexbot',\n",
    "    'bgwiki': 'PSS 9',\n",
    "    'simplewiki': 'ChenzwBot',\n",
    "    'ruwiki': 'Рейму Хакурей',\n",
    "    'rowiki': 'PatrocleBot'\n",
    "}"
   ]
  },
  {
   "cell_type": "code",
   "execution_count": 29,
   "id": "0121d3e6-5d24-449f-910d-b8e0a32c9aab",
   "metadata": {},
   "outputs": [
    {
     "name": "stderr",
     "output_type": "stream",
     "text": [
      "[Stage 19:=====================================================>(252 + 4) / 256]\r"
     ]
    },
    {
     "name": "stdout",
     "output_type": "stream",
     "text": [
      "CPU times: user 552 ms, sys: 120 ms, total: 672 ms\n",
      "Wall time: 2min 41s\n"
     ]
    },
    {
     "name": "stderr",
     "output_type": "stream",
     "text": [
      "                                                                                \r"
     ]
    }
   ],
   "source": [
    "%%time\n",
    "\n",
    "query = \"\"\"\n",
    "WITH\n",
    "    base AS (\n",
    "        SELECT\n",
    "            wiki_db,\n",
    "            revision_id,\n",
    "            event_timestamp,\n",
    "            revision_first_identity_reverting_revision_id,\n",
    "            revision_seconds_to_identity_revert\n",
    "        FROM\n",
    "            wmf.mediawiki_history\n",
    "        WHERE\n",
    "            snapshot = '2023-06' AND\n",
    "            wiki_db IN {DBS} AND\n",
    "            event_entity = 'revision' AND\n",
    "            event_type = 'create' AND\n",
    "            revision_is_identity_reverted AND\n",
    "            page_namespace_is_content AND\n",
    "            revision_seconds_to_identity_revert <= 24*60*60 AND\n",
    "            DATE(event_timestamp) >= DATE('2020-07-01') AND\n",
    "            DATE(event_timestamp) <= DATE('2023-06-30') AND\n",
    "            NOT revision_parent_id = 0\n",
    "        ),\n",
    "            \n",
    "    revert_counts AS (\n",
    "        SELECT\n",
    "            base.wiki_db,\n",
    "            YEAR(base.event_timestamp) AS year,\n",
    "            MONTH(base.event_timestamp) AS month,\n",
    "            DAY(base.event_timestamp) AS day,\n",
    "            COUNT(DISTINCT mwh.revision_id) AS all_reverts,\n",
    "            COUNT(DISTINCT (CASE WHEN event_user_text IN {BOTS} THEN mwh.revision_id END)) AS bot_reverts\n",
    "        FROM\n",
    "            base\n",
    "            JOIN wmf.mediawiki_history mwh\n",
    "            ON base.revision_first_identity_reverting_revision_id = mwh.revision_id\n",
    "        WHERE\n",
    "            snapshot = '2023-06'\n",
    "        GROUP BY\n",
    "            YEAR(base.event_timestamp),\n",
    "            MONTH(base.event_timestamp),\n",
    "            DAY(base.event_timestamp),\n",
    "            base.wiki_db\n",
    ")\n",
    "        \n",
    "SELECT *\n",
    "FROM revert_counts\n",
    "\"\"\"\n",
    "\n",
    "result = wmf.spark.run(query.format(DBS=wmf.utils.sql_tuple(bots.keys()),\n",
    "                                   BOTS=wmf.utils.sql_tuple(set(bots.values()))))"
   ]
  },
  {
   "cell_type": "code",
   "execution_count": null,
   "id": "9561fabd-5fc6-4e3e-9536-864b81042859",
   "metadata": {},
   "outputs": [],
   "source": [
    "result.groupby('wiki_db').agg({'all_reverts': 'mean', 'bot_reverts': 'mean'})"
   ]
  },
  {
   "cell_type": "code",
   "execution_count": null,
   "id": "1dd6b080-c237-4ee1-856e-33908d6e717c",
   "metadata": {},
   "outputs": [],
   "source": []
  }
 ],
 "metadata": {
  "kernelspec": {
   "display_name": "Python 3 (ipykernel)",
   "language": "python",
   "name": "python3"
  },
  "language_info": {
   "codemirror_mode": {
    "name": "ipython",
    "version": 3
   },
   "file_extension": ".py",
   "mimetype": "text/x-python",
   "name": "python",
   "nbconvert_exporter": "python",
   "pygments_lexer": "ipython3",
   "version": "3.10.8"
  }
 },
 "nbformat": 4,
 "nbformat_minor": 5
}
