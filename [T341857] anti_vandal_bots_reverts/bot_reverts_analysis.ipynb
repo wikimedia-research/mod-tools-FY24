{
 "cells": [
  {
   "cell_type": "markdown",
   "id": "a3ded8a0-c2bd-4052-a56b-c90866635991",
   "metadata": {},
   "source": [
    "# Analysis of Reversion Activity by Anti-Vandalism Bots\n",
    "**Krishna Chaitanya Velaga, Data Scientist III, Wikimedia Foundation**\n",
    "\n",
    "**Last updated on 28 July 2023**\n",
    "\n",
    "[TASK: T341857](https://phabricator.wikimedia.org/T341857)\n",
    "\n",
    "# Contents\n",
    "\n",
    "1. [Overview](#Overview)\n",
    "3. [Data Gathering](#Data-Gathering)\n",
    "4. [Results](#Results)"
   ]
  },
  {
   "cell_type": "markdown",
   "id": "d93f73eb-c021-4503-aed4-cd5f3fe41047",
   "metadata": {},
   "source": [
    "# Overview\n",
    "The goal of the following analysis was to understand the activity of various automated anti-[vandalism](https://en.wikipedia.org/wiki/Wikipedia:Vandalism) bots. Primarily, how much of the anti-vandalism burden is taken on by the bots in the respective communities? The findings will eventually inform the decisions to be taken during the development of [Automoderator](https://www.mediawiki.org/wiki/Moderator_Tools/Automoderator), including but not limited to the development of a measurement plan and setting baselines. The [MediaWiki history dataset](https://wikitech.wikimedia.org/wiki/Analytics/Data_Lake/Edits/MediaWiki_history) has been used for the analysis, for a time period of three years (July 2020 to June 2023).\n",
    "\n",
    "**Questions Answered**\n",
    "\n",
    "For the given list of anti-vandal bots, and their respective wikis:\n",
    "- How many reverts happen per day, where the time between the edit and its revert is less than 24 hrs?\n",
    "- How many bot reverts happen per day (as they tend to happen quickly)? \n",
    "    - How does this compare to the reverts taking place within 24 hrs of an edit?\n",
    "- What percentage of the reverts made by the anti-vandal bots are reverted back?\n",
    "    - Note: This is beyond the scope of the task, and further investigation is necessary to use this data to calculate the false positive ratio of the bots. \n",
    "\n",
    "**Considerations**\n",
    "\n",
    "*(based on the inputs shared by [Sam Walton](https://phabricator.wikimedia.org/p/Samwalton9/), Product Manager for Automoderator)*\n",
    "\n",
    "Given that the analysis will be used to inform the decisions for Automoderator development, the following considerations were taken into account:\n",
    "- As bot edits take place quickly, only anti-vandalism activity by tracking new edits has been considered i.e. within 24 hrs of an edit taking place. \n",
    "    - Reverts taking place much later (say a month) are likely taking place through a different process than monitoring the recent changes.\n",
    "- Only edits made to the [content namespaces](https://en.wikipedia.org/wiki/Wikipedia:Namespace) were considered.\n",
    "- New page creations were excluded as Automoderator is not expected to monitor new page creations."
   ]
  },
  {
   "cell_type": "markdown",
   "id": "dfa6f0ce-753c-41ad-aea2-2fadffd088fa",
   "metadata": {
    "tags": []
   },
   "source": [
    "# Data-Gathering"
   ]
  },
  {
   "cell_type": "markdown",
   "id": "da5bc7f6-fe32-4f13-949e-3f955e4b4a4e",
   "metadata": {
    "tags": []
   },
   "source": [
    "## imports"
   ]
  },
  {
   "cell_type": "code",
   "execution_count": 32,
   "id": "07766749-abfd-4afc-b2ee-376c5ee76715",
   "metadata": {},
   "outputs": [],
   "source": [
    "import wmfdata as wmf\n",
    "import pandas as pd\n",
    "import numpy as np\n",
    "\n",
    "pd.options.display.max_columns = None\n",
    "\n",
    "import warnings"
   ]
  },
  {
   "cell_type": "markdown",
   "id": "dbb2de01-e418-4d4a-aee6-52251e0a0289",
   "metadata": {
    "tags": []
   },
   "source": [
    "## spark_session"
   ]
  },
  {
   "cell_type": "code",
   "execution_count": 2,
   "id": "a70f332f-ce3c-47ee-9b07-a5028a511611",
   "metadata": {
    "tags": []
   },
   "outputs": [
    {
     "name": "stdout",
     "output_type": "stream",
     "text": [
      "no active session\n"
     ]
    }
   ],
   "source": [
    "spark_session = wmf.spark.get_active_session()\n",
    "\n",
    "if type(spark_session) != type(None):\n",
    "    spark_session.stop()\n",
    "else:\n",
    "    print('no active session')"
   ]
  },
  {
   "cell_type": "code",
   "execution_count": 3,
   "id": "0283af2a-ee0a-43e7-be6f-96644e5b67ba",
   "metadata": {},
   "outputs": [
    {
     "name": "stdout",
     "output_type": "stream",
     "text": [
      "SPARK_HOME: /usr/lib/spark3\n",
      "Using Hadoop client lib jars at 3.2.0, provided by Spark.\n",
      "PYSPARK_PYTHON=/opt/conda-analytics/bin/python3\n"
     ]
    },
    {
     "name": "stderr",
     "output_type": "stream",
     "text": [
      "Setting default log level to \"WARN\".\n",
      "To adjust logging level use sc.setLogLevel(newLevel). For SparkR, use setLogLevel(newLevel).\n",
      "23/07/28 16:42:49 WARN SparkConf: Note that spark.local.dir will be overridden by the value set by the cluster manager (via SPARK_LOCAL_DIRS in mesos/standalone/kubernetes and LOCAL_DIRS in YARN).\n",
      "23/07/28 16:42:49 WARN Utils: Service 'sparkDriver' could not bind on port 12000. Attempting port 12001.\n",
      "23/07/28 16:42:50 WARN Utils: Service 'SparkUI' could not bind on port 4040. Attempting port 4041.\n",
      "23/07/28 16:43:08 WARN Utils: Service 'org.apache.spark.network.netty.NettyBlockTransferService' could not bind on port 13000. Attempting port 13001.\n",
      "23/07/28 16:43:08 WARN Utils: Service 'org.apache.spark.network.netty.NettyBlockTransferService' could not bind on port 13001. Attempting port 13002.\n",
      "23/07/28 16:43:09 WARN YarnSchedulerBackend$YarnSchedulerEndpoint: Attempted to request executors before the AM has registered!\n"
     ]
    }
   ],
   "source": [
    "spark_session = wmf.spark.create_custom_session(\n",
    "    master=\"yarn\",\n",
    "    app_name='bot-vandal-reverts',\n",
    "    spark_config={\n",
    "        \"spark.driver.memory\": \"4g\",\n",
    "        \"spark.dynamicAllocation.maxExecutors\": 64,\n",
    "        \"spark.executor.memory\": \"16g\",\n",
    "        \"spark.executor.cores\": 4,\n",
    "        \"spark.sql.shuffle.partitions\": 256,\n",
    "        \"spark.driver.maxResultSize\": \"2g\"\n",
    "        \n",
    "    }\n",
    ")"
   ]
  },
  {
   "cell_type": "code",
   "execution_count": 4,
   "id": "ded53def-e890-490b-a012-d73d9c9e4fb9",
   "metadata": {},
   "outputs": [
    {
     "data": {
      "text/html": [
       "\n",
       "            <div>\n",
       "                <p><b>SparkSession - hive</b></p>\n",
       "                \n",
       "        <div>\n",
       "            <p><b>SparkContext</b></p>\n",
       "\n",
       "            <p><a href=\"http://stat1005.eqiad.wmnet:4041\">Spark UI</a></p>\n",
       "\n",
       "            <dl>\n",
       "              <dt>Version</dt>\n",
       "                <dd><code>v3.1.2</code></dd>\n",
       "              <dt>Master</dt>\n",
       "                <dd><code>yarn</code></dd>\n",
       "              <dt>AppName</dt>\n",
       "                <dd><code>bot-vandal-reverts</code></dd>\n",
       "            </dl>\n",
       "        </div>\n",
       "        \n",
       "            </div>\n",
       "        "
      ],
      "text/plain": [
       "<pyspark.sql.session.SparkSession at 0x7f8594f980a0>"
      ]
     },
     "execution_count": 4,
     "metadata": {},
     "output_type": "execute_result"
    }
   ],
   "source": [
    "spark_session"
   ]
  },
  {
   "cell_type": "code",
   "execution_count": 5,
   "id": "7fcec281-6860-4655-893e-a1016b185bf4",
   "metadata": {},
   "outputs": [],
   "source": [
    "spark_session.sparkContext.setLogLevel(\"ERROR\")"
   ]
  },
  {
   "cell_type": "markdown",
   "id": "7e7c3d6e-7bec-45d9-89da-f680b7968fd5",
   "metadata": {},
   "source": [
    "## run query"
   ]
  },
  {
   "cell_type": "code",
   "execution_count": 6,
   "id": "06d75af3-30bf-401d-9568-b0ca0a937b6a",
   "metadata": {},
   "outputs": [],
   "source": [
    "# list as per https://phabricator.wikimedia.org/T341857\n",
    "bots = {\n",
    "    'enwiki': 'ClueBot NG',\n",
    "    'eswiki': 'SeroBOT',\n",
    "    'frwiki': 'Salebot',\n",
    "    'ptwiki': 'Salebot',\n",
    "    'fawiki': 'Dexbot',\n",
    "    'bgwiki': 'PSS 9',\n",
    "    'simplewiki': 'ChenzwBot',\n",
    "    'ruwiki': 'Рейму Хакурей',\n",
    "    'rowiki': 'PatrocleBot'\n",
    "}"
   ]
  },
  {
   "cell_type": "code",
   "execution_count": 75,
   "id": "6e836803-4d7d-4ba5-9300-32c034b8cb6c",
   "metadata": {},
   "outputs": [
    {
     "name": "stderr",
     "output_type": "stream",
     "text": [
      "[Stage 13:=====================================================>(252 + 4) / 256]\r"
     ]
    },
    {
     "name": "stdout",
     "output_type": "stream",
     "text": [
      "CPU times: user 442 ms, sys: 98.5 ms, total: 541 ms\n",
      "Wall time: 2min 40s\n"
     ]
    },
    {
     "name": "stderr",
     "output_type": "stream",
     "text": [
      "                                                                                \r"
     ]
    }
   ],
   "source": [
    "%%time\n",
    "\n",
    "bot_reverts_query = \"\"\"\n",
    "WITH \n",
    "    base AS (\n",
    "        SELECT \n",
    "            wiki_db,\n",
    "            revision_id,\n",
    "            event_timestamp,\n",
    "            revision_first_identity_reverting_revision_id,\n",
    "            revision_seconds_to_identity_revert\n",
    "        FROM \n",
    "            wmf.mediawiki_history\n",
    "        WHERE \n",
    "            snapshot = '{MW_SNAPSHOT}'\n",
    "            AND wiki_db IN {DBS}\n",
    "            AND event_entity = 'revision'\n",
    "            AND event_type = 'create'\n",
    "            AND revision_is_identity_reverted\n",
    "            AND page_namespace_is_content\n",
    "            AND revision_seconds_to_identity_revert <= 24 * 60 * 60\n",
    "            AND DATE (event_timestamp) >= DATE ('{START_DATE}')\n",
    "            AND DATE (event_timestamp) <= DATE ('{END_DATE}')\n",
    "            AND NOT revision_parent_id = 0\n",
    "        )\n",
    "            \n",
    "SELECT \n",
    "    mwh.wiki_db,\n",
    "    YEAR(mwh.event_timestamp) AS year,\n",
    "    MONTH(mwh.event_timestamp) AS month,\n",
    "    DAY(mwh.event_timestamp) AS day,\n",
    "    COUNT(DISTINCT mwh.revision_id) AS all_reverts,\n",
    "    COUNT(DISTINCT (\n",
    "            CASE \n",
    "                WHEN event_user_text IN {BOTS}\n",
    "                     THEN mwh.revision_id\n",
    "            END)) AS bot_reverts,\n",
    "    COUNT(DISTINCT (\n",
    "            CASE \n",
    "                WHEN event_user_text IN {BOTS}\n",
    "                     AND mwh.revision_is_identity_reverted = True\n",
    "                     THEN mwh.revision_id\n",
    "            END)) AS reverted_bot_reverts\n",
    "FROM \n",
    "    base\n",
    "JOIN wmf.mediawiki_history mwh\n",
    "     ON base.revision_first_identity_reverting_revision_id = mwh.revision_id\n",
    "        AND base.wiki_db = mwh.wiki_db\n",
    "WHERE \n",
    "    snapshot = '{MW_SNAPSHOT}'\n",
    "GROUP BY \n",
    "    YEAR(mwh.event_timestamp),\n",
    "    MONTH(mwh.event_timestamp),\n",
    "    DAY(mwh.event_timestamp),\n",
    "    mwh.wiki_db\n",
    "\"\"\"\n",
    "\n",
    "time_bounds = ['2020-07-01', '2023-06-30'] # three years\n",
    "mw_snapshot = '2023-06'\n",
    "\n",
    "bot_revert_counts = wmf.spark.run(bot_reverts_query.format(DBS=wmf.utils.sql_tuple(bots.keys()),\n",
    "                                                           BOTS=wmf.utils.sql_tuple(set(bots.values())),\n",
    "                                                           START_DATE=time_bounds[0],\n",
    "                                                           END_DATE=time_bounds[1],\n",
    "                                                           MW_SNAPSHOT=mw_snapshot))"
   ]
  },
  {
   "cell_type": "code",
   "execution_count": 73,
   "id": "3641023b-8812-46f5-991a-880afa3a0b15",
   "metadata": {},
   "outputs": [
    {
     "data": {
      "text/html": [
       "<div>\n",
       "<style scoped>\n",
       "    .dataframe tbody tr th:only-of-type {\n",
       "        vertical-align: middle;\n",
       "    }\n",
       "\n",
       "    .dataframe tbody tr th {\n",
       "        vertical-align: top;\n",
       "    }\n",
       "\n",
       "    .dataframe thead th {\n",
       "        text-align: right;\n",
       "    }\n",
       "</style>\n",
       "<table border=\"1\" class=\"dataframe\">\n",
       "  <thead>\n",
       "    <tr style=\"text-align: right;\">\n",
       "      <th></th>\n",
       "      <th>bot</th>\n",
       "      <th>reg_date</th>\n",
       "      <th>wiki_db</th>\n",
       "    </tr>\n",
       "  </thead>\n",
       "  <tbody>\n",
       "    <tr>\n",
       "      <th>0</th>\n",
       "      <td>ClueBot NG</td>\n",
       "      <td>2010-10-20</td>\n",
       "      <td>enwiki</td>\n",
       "    </tr>\n",
       "    <tr>\n",
       "      <th>0</th>\n",
       "      <td>SeroBOT</td>\n",
       "      <td>2018-04-19</td>\n",
       "      <td>eswiki</td>\n",
       "    </tr>\n",
       "    <tr>\n",
       "      <th>0</th>\n",
       "      <td>Salebot</td>\n",
       "      <td>2006-11-10</td>\n",
       "      <td>frwiki</td>\n",
       "    </tr>\n",
       "    <tr>\n",
       "      <th>0</th>\n",
       "      <td>Salebot</td>\n",
       "      <td>2008-09-21</td>\n",
       "      <td>ptwiki</td>\n",
       "    </tr>\n",
       "    <tr>\n",
       "      <th>0</th>\n",
       "      <td>Dexbot</td>\n",
       "      <td>2012-04-20</td>\n",
       "      <td>fawiki</td>\n",
       "    </tr>\n",
       "    <tr>\n",
       "      <th>0</th>\n",
       "      <td>PSS 9</td>\n",
       "      <td>2017-03-01</td>\n",
       "      <td>bgwiki</td>\n",
       "    </tr>\n",
       "    <tr>\n",
       "      <th>0</th>\n",
       "      <td>ChenzwBot</td>\n",
       "      <td>2008-04-10</td>\n",
       "      <td>simplewiki</td>\n",
       "    </tr>\n",
       "    <tr>\n",
       "      <th>0</th>\n",
       "      <td>Рейму Хакурей</td>\n",
       "      <td>2016-08-20</td>\n",
       "      <td>ruwiki</td>\n",
       "    </tr>\n",
       "    <tr>\n",
       "      <th>0</th>\n",
       "      <td>PatrocleBot</td>\n",
       "      <td>2022-01-15</td>\n",
       "      <td>rowiki</td>\n",
       "    </tr>\n",
       "  </tbody>\n",
       "</table>\n",
       "</div>"
      ],
      "text/plain": [
       "             bot    reg_date     wiki_db\n",
       "0     ClueBot NG  2010-10-20      enwiki\n",
       "0        SeroBOT  2018-04-19      eswiki\n",
       "0        Salebot  2006-11-10      frwiki\n",
       "0        Salebot  2008-09-21      ptwiki\n",
       "0         Dexbot  2012-04-20      fawiki\n",
       "0          PSS 9  2017-03-01      bgwiki\n",
       "0      ChenzwBot  2008-04-10  simplewiki\n",
       "0  Рейму Хакурей  2016-08-20      ruwiki\n",
       "0    PatrocleBot  2022-01-15      rowiki"
      ]
     },
     "execution_count": 73,
     "metadata": {},
     "output_type": "execute_result"
    }
   ],
   "source": [
    "# although three years of data has been considered by default, a few bots have started running much later\n",
    "# gathering the registration date of the bots for their respective wikis\n",
    "\n",
    "warnings.filterwarnings('ignore')\n",
    "\n",
    "bot_reg_query = \"\"\"\n",
    "SELECT\n",
    "    user_name AS bot,\n",
    "    DATE(user_registration) AS reg_date\n",
    "FROM\n",
    "    user\n",
    "WHERE\n",
    "    user_name = '{BOT_USERNAME}'\n",
    "\"\"\"\n",
    "\n",
    "bot_reg_dates = pd.DataFrame()\n",
    "for wiki_db in bots.keys():\n",
    "    result = wmf.mariadb.run(bot_reg_query.format(BOT_USERNAME=bots[wiki_db]), \n",
    "                             wiki_db)\n",
    "    result['wiki_db'] = wiki_db\n",
    "    bot_reg_dates = pd.concat([bot_reg_dates, result], ignore_index=False)\n",
    "    \n",
    "bot_reg_dates"
   ]
  },
  {
   "cell_type": "code",
   "execution_count": 76,
   "id": "eefe1111-7164-45c5-b132-c863fddcd238",
   "metadata": {},
   "outputs": [],
   "source": [
    "bot_revert_counts = pd.merge(bot_revert_counts.assign(bot=lambda df: df[\"wiki_db\"].map(bots)), \n",
    "                             bot_reg_dates, \n",
    "                             on=['bot', 'wiki_db'], \n",
    "                             how='left')\n",
    "\n",
    "bot_revert_counts = bot_revert_counts.astype({'year': str, 'month': str, 'day': str})\n",
    "bot_revert_counts['date'] = pd.to_datetime(bot_revert_counts['year'] + '-' + bot_revert_counts['month'] + '-' + bot_revert_counts['day'])\n",
    "bot_revert_counts['reg_date'] = pd.to_datetime(bot_revert_counts['reg_date'])"
   ]
  },
  {
   "cell_type": "code",
   "execution_count": 89,
   "id": "c51ad308-2d06-4b61-879a-e12417b0fd41",
   "metadata": {},
   "outputs": [],
   "source": [
    "# consider dates only after the bot registration date\n",
    "bot_revert_counts = bot_revert_counts.query(\"\"\"date > reg_date\"\"\")"
   ]
  },
  {
   "cell_type": "code",
   "execution_count": 98,
   "id": "788fc8fd-5441-44a4-bd08-f3a30d21854b",
   "metadata": {},
   "outputs": [],
   "source": [
    "# for a few edits that took place on the last the day of the data end date i.e. 30 June 2023, their reverts took place the next day\n",
    "# drop them as that is incomplete data and may skew the aggregations\n",
    "bot_revert_counts = bot_revert_counts.query(\"\"\"date <= @pd.to_datetime('2023-06-30')\"\"\")"
   ]
  },
  {
   "cell_type": "code",
   "execution_count": 99,
   "id": "e5803d0d-4fd0-4cd7-b360-e2c932f3acb0",
   "metadata": {},
   "outputs": [],
   "source": [
    "# save data\n",
    "(bot_revert_counts\n",
    " .sort_values(['wiki_db', 'year', 'month', 'day'])\n",
    " .to_csv('data_outputs/anti_vandal_bot_revert_counts.tsv', sep='\\t', index=False))"
   ]
  },
  {
   "cell_type": "markdown",
   "id": "52e72384-c5e3-46cd-a8e2-cde448acd74c",
   "metadata": {},
   "source": [
    "# Results"
   ]
  },
  {
   "cell_type": "code",
   "execution_count": 114,
   "id": "9e63d2d2-4ebf-414a-ab31-ceae27ee6dc2",
   "metadata": {},
   "outputs": [
    {
     "data": {
      "text/html": [
       "<div>\n",
       "<style scoped>\n",
       "    .dataframe tbody tr th:only-of-type {\n",
       "        vertical-align: middle;\n",
       "    }\n",
       "\n",
       "    .dataframe tbody tr th {\n",
       "        vertical-align: top;\n",
       "    }\n",
       "\n",
       "    .dataframe thead th {\n",
       "        text-align: right;\n",
       "    }\n",
       "</style>\n",
       "<table border=\"1\" class=\"dataframe\">\n",
       "  <thead>\n",
       "    <tr style=\"text-align: right;\">\n",
       "      <th></th>\n",
       "      <th></th>\n",
       "      <th>all_reverts</th>\n",
       "      <th>bot_reverts</th>\n",
       "      <th>reverted_bot_reverts</th>\n",
       "      <th>n_days</th>\n",
       "      <th>bot_reverts_percent</th>\n",
       "      <th>reverted_bot_reverts_percent</th>\n",
       "    </tr>\n",
       "    <tr>\n",
       "      <th>wiki_db</th>\n",
       "      <th>bot</th>\n",
       "      <th></th>\n",
       "      <th></th>\n",
       "      <th></th>\n",
       "      <th></th>\n",
       "      <th></th>\n",
       "      <th></th>\n",
       "    </tr>\n",
       "  </thead>\n",
       "  <tbody>\n",
       "    <tr>\n",
       "      <th>bgwiki</th>\n",
       "      <th>PSS 9</th>\n",
       "      <td>58.0</td>\n",
       "      <td>4.0</td>\n",
       "      <td>0.3</td>\n",
       "      <td>947</td>\n",
       "      <td>7.18</td>\n",
       "      <td>8.35</td>\n",
       "    </tr>\n",
       "    <tr>\n",
       "      <th>enwiki</th>\n",
       "      <th>ClueBot NG</th>\n",
       "      <td>6576.0</td>\n",
       "      <td>358.0</td>\n",
       "      <td>33.6</td>\n",
       "      <td>1090</td>\n",
       "      <td>5.44</td>\n",
       "      <td>9.41</td>\n",
       "    </tr>\n",
       "    <tr>\n",
       "      <th>eswiki</th>\n",
       "      <th>SeroBOT</th>\n",
       "      <td>2127.0</td>\n",
       "      <td>897.0</td>\n",
       "      <td>78.6</td>\n",
       "      <td>1092</td>\n",
       "      <td>42.17</td>\n",
       "      <td>8.76</td>\n",
       "    </tr>\n",
       "    <tr>\n",
       "      <th>fawiki</th>\n",
       "      <th>Dexbot</th>\n",
       "      <td>489.0</td>\n",
       "      <td>224.0</td>\n",
       "      <td>24.5</td>\n",
       "      <td>439</td>\n",
       "      <td>45.81</td>\n",
       "      <td>10.96</td>\n",
       "    </tr>\n",
       "    <tr>\n",
       "      <th>frwiki</th>\n",
       "      <th>Salebot</th>\n",
       "      <td>731.0</td>\n",
       "      <td>26.0</td>\n",
       "      <td>2.9</td>\n",
       "      <td>1067</td>\n",
       "      <td>3.62</td>\n",
       "      <td>11.09</td>\n",
       "    </tr>\n",
       "    <tr>\n",
       "      <th>rowiki</th>\n",
       "      <th>PatrocleBot</th>\n",
       "      <td>59.0</td>\n",
       "      <td>8.0</td>\n",
       "      <td>0.8</td>\n",
       "      <td>429</td>\n",
       "      <td>13.14</td>\n",
       "      <td>10.19</td>\n",
       "    </tr>\n",
       "    <tr>\n",
       "      <th>ruwiki</th>\n",
       "      <th>Рейму Хакурей</th>\n",
       "      <td>709.0</td>\n",
       "      <td>66.0</td>\n",
       "      <td>8.3</td>\n",
       "      <td>1071</td>\n",
       "      <td>9.37</td>\n",
       "      <td>12.53</td>\n",
       "    </tr>\n",
       "    <tr>\n",
       "      <th>simplewiki</th>\n",
       "      <th>ChenzwBot</th>\n",
       "      <td>89.0</td>\n",
       "      <td>16.0</td>\n",
       "      <td>1.9</td>\n",
       "      <td>890</td>\n",
       "      <td>18.06</td>\n",
       "      <td>11.55</td>\n",
       "    </tr>\n",
       "  </tbody>\n",
       "</table>\n",
       "</div>"
      ],
      "text/plain": [
       "                          all_reverts  bot_reverts  reverted_bot_reverts  \\\n",
       "wiki_db    bot                                                             \n",
       "bgwiki     PSS 9                 58.0          4.0                   0.3   \n",
       "enwiki     ClueBot NG          6576.0        358.0                  33.6   \n",
       "eswiki     SeroBOT             2127.0        897.0                  78.6   \n",
       "fawiki     Dexbot               489.0        224.0                  24.5   \n",
       "frwiki     Salebot              731.0         26.0                   2.9   \n",
       "rowiki     PatrocleBot           59.0          8.0                   0.8   \n",
       "ruwiki     Рейму Хакурей        709.0         66.0                   8.3   \n",
       "simplewiki ChenzwBot             89.0         16.0                   1.9   \n",
       "\n",
       "                          n_days  bot_reverts_percent  \\\n",
       "wiki_db    bot                                          \n",
       "bgwiki     PSS 9             947                 7.18   \n",
       "enwiki     ClueBot NG       1090                 5.44   \n",
       "eswiki     SeroBOT          1092                42.17   \n",
       "fawiki     Dexbot            439                45.81   \n",
       "frwiki     Salebot          1067                 3.62   \n",
       "rowiki     PatrocleBot       429                13.14   \n",
       "ruwiki     Рейму Хакурей    1071                 9.37   \n",
       "simplewiki ChenzwBot         890                18.06   \n",
       "\n",
       "                          reverted_bot_reverts_percent  \n",
       "wiki_db    bot                                          \n",
       "bgwiki     PSS 9                                  8.35  \n",
       "enwiki     ClueBot NG                             9.41  \n",
       "eswiki     SeroBOT                                8.76  \n",
       "fawiki     Dexbot                                10.96  \n",
       "frwiki     Salebot                               11.09  \n",
       "rowiki     PatrocleBot                           10.19  \n",
       "ruwiki     Рейму Хакурей                         12.53  \n",
       "simplewiki ChenzwBot                             11.55  "
      ]
     },
     "execution_count": 114,
     "metadata": {},
     "output_type": "execute_result"
    }
   ],
   "source": [
    "percent_bot_reverts = (\n",
    "    (\n",
    "        bot_revert_counts.query(\"\"\"bot_reverts != 0\"\"\").groupby(['wiki_db', 'bot']).agg(\n",
    "            {'all_reverts': np.mean, 'bot_reverts': np.mean, 'reverted_bot_reverts': np.mean, 'date': 'count'}\n",
    "        )\n",
    "    ) # days when bots made no edits are being dropped as they tend to skew results to \n",
    "    .assign(\n",
    "        bot_reverts_percent=lambda df: df[\"bot_reverts\"] / df[\"all_reverts\"] * 100,\n",
    "        reverted_bot_reverts_percent=lambda df: df[\"reverted_bot_reverts\"] / df[\"bot_reverts\"] * 100,\n",
    "    )\n",
    "    .reset_index()\n",
    "    .round(\n",
    "        {\n",
    "            \"all_reverts\": 0,\n",
    "            \"bot_reverts\": 0,\n",
    "            \"reverted_bot_reverts\": 1,\n",
    "            \"bot_reverts_percent\": 2,\n",
    "            \"reverted_bot_reverts_percent\": 2,\n",
    "        }\n",
    "    )\n",
    "    .set_index([\"wiki_db\", \"bot\"])\n",
    "    .sort_index()\n",
    "    .rename({'date': 'n_days'}, axis=1)\n",
    ")\n",
    "\n",
    "percent_bot_reverts"
   ]
  },
  {
   "cell_type": "code",
   "execution_count": 110,
   "id": "4a0ce0b7-a9f6-4cc0-9b39-2d420d303394",
   "metadata": {},
   "outputs": [],
   "source": [
    "percent_bot_reverts.fillna(0).to_csv('data_outputs/anti_vandal_bot_revert_percentages.tsv', sep='\\t')"
   ]
  },
  {
   "cell_type": "code",
   "execution_count": 115,
   "id": "2ba763db-a846-4e9c-8588-4f694551d756",
   "metadata": {},
   "outputs": [
    {
     "name": "stdout",
     "output_type": "stream",
     "text": [
      "| wiki_db | bot | all_reverts | bot_reverts | reverted_bot_reverts | n_days | bot_reverts_percent | reverted_bot_reverts_percent\n",
      "| ----- | ----- | ----- | ----- | ----- | ----- | ----- | ----- \n",
      "| bgwiki | PSS 9 | 58.0 | 4.0 | 0.3 | 947 | 7.18 | 8.35\n",
      "| enwiki | ClueBot NG | 6576.0 | 358.0 | 33.6 | 1090 | 5.44 | 9.41\n",
      "| eswiki | SeroBOT | 2127.0 | 897.0 | 78.6 | 1092 | 42.17 | 8.76\n",
      "| fawiki | Dexbot | 489.0 | 224.0 | 24.5 | 439 | 45.81 | 10.96\n",
      "| frwiki | Salebot | 731.0 | 26.0 | 2.9 | 1067 | 3.62 | 11.09\n",
      "| rowiki | PatrocleBot | 59.0 | 8.0 | 0.8 | 429 | 13.14 | 10.19\n",
      "| ruwiki | Рейму Хакурей | 709.0 | 66.0 | 8.3 | 1071 | 9.37 | 12.53\n",
      "| simplewiki | ChenzwBot | 89.0 | 16.0 | 1.9 | 890 | 18.06 | 11.55\n",
      "\n"
     ]
    }
   ],
   "source": [
    "wmf.utils.df_to_remarkup(percent_bot_reverts.reset_index())"
   ]
  },
  {
   "cell_type": "code",
   "execution_count": null,
   "id": "8eade24a-117c-44ee-85f4-408dabca510c",
   "metadata": {
    "tags": []
   },
   "outputs": [],
   "source": []
  }
 ],
 "metadata": {
  "kernelspec": {
   "display_name": "Python 3 (ipykernel)",
   "language": "python",
   "name": "python3"
  },
  "language_info": {
   "codemirror_mode": {
    "name": "ipython",
    "version": 3
   },
   "file_extension": ".py",
   "mimetype": "text/x-python",
   "name": "python",
   "nbconvert_exporter": "python",
   "pygments_lexer": "ipython3",
   "version": "3.10.8"
  }
 },
 "nbformat": 4,
 "nbformat_minor": 5
}
