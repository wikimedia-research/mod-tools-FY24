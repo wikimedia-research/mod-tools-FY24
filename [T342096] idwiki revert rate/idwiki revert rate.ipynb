{
 "cells": [
  {
   "cell_type": "markdown",
   "id": "c5977bad-45e3-4782-bc87-222acc83eef6",
   "metadata": {},
   "source": [
    "# Revert Rate on Indonesian Wikipedia\n",
    "<hr>\n",
    "\n",
    "**Krishna Chaitanya Velaga, Data Scientist III, Wikimedia Foundation**\n",
    "\n",
    "**Last updated on 17 August 2023**\n",
    "\n",
    "[TASK: T342096](https://phabricator.wikimedia.org/T342096)"
   ]
  },
  {
   "cell_type": "markdown",
   "id": "3815d62f-aabb-4263-80be-159e59ff57e4",
   "metadata": {},
   "source": [
    "# Contents\n",
    "\n",
    "1. [Overview](#Overview)\n",
    "2. [Data Gathering](#Data-Gathering)\n",
    "3. [Analysis](#Analysis)"
   ]
  },
  {
   "cell_type": "markdown",
   "id": "66963191-c4fc-4120-8200-14cab2c6184a",
   "metadata": {},
   "source": [
    "# Overview\n",
    "\n",
    "Indonesian Wikipedia will be the one of pilot wikis to test the feasibility of [Automoderator](https://www.mediawiki.org/wiki/Moderator_Tools/Automoderator). The analysis was done to understand the current reversion activity on the project. The following questions have been answered:\n",
    "\n",
    "* What is the average revert rate by day? (split by namespace and user type)\n",
    "* What does the distribution of time to revert look like?\n",
    "* Who are the editors performing reverts? (by user rights and edit bucket)\n",
    "\n",
    "**Considerations**\n",
    "- Edits made by bots were not considered.\n",
    "- Three years of data (July 2020 to June 2023) was considered."
   ]
  },
  {
   "cell_type": "markdown",
   "id": "6133c34c-9163-453a-836c-7b3622ae586d",
   "metadata": {},
   "source": [
    "# Data-Gathering"
   ]
  },
  {
   "cell_type": "markdown",
   "id": "67ddd983-97ad-4199-a1fa-f42dc92fba4c",
   "metadata": {},
   "source": [
    "## imports"
   ]
  },
  {
   "cell_type": "code",
   "execution_count": 147,
   "id": "81be7f99-6d82-4b19-a1c1-299632b96d78",
   "metadata": {},
   "outputs": [],
   "source": [
    "import wmfdata as wmf\n",
    "import pandas as pd\n",
    "import numpy as np\n",
    "\n",
    "import warnings\n",
    "\n",
    "import matplotlib.pyplot as plt\n",
    "import seaborn as sns\n",
    "from matplotlib.ticker import FuncFormatter, FixedLocator\n",
    "\n",
    "from datetime import timedelta, datetime\n",
    "\n",
    "pd.options.display.max_columns = None"
   ]
  },
  {
   "cell_type": "markdown",
   "id": "2ea922bf-a08e-4561-b8e3-daa98ce9badc",
   "metadata": {},
   "source": [
    "# spark session"
   ]
  },
  {
   "cell_type": "code",
   "execution_count": 2,
   "id": "0c5d5cbd-e423-4ab2-811b-f2d388719932",
   "metadata": {},
   "outputs": [
    {
     "name": "stdout",
     "output_type": "stream",
     "text": [
      "no active session\n"
     ]
    }
   ],
   "source": [
    "spark_session = wmf.spark.get_active_session()\n",
    "\n",
    "if type(spark_session) != type(None):\n",
    "    spark_session.stop()\n",
    "else:\n",
    "    print('no active session')"
   ]
  },
  {
   "cell_type": "code",
   "execution_count": 3,
   "id": "e317f2e4-7adf-497e-85bc-b13436a5e49b",
   "metadata": {},
   "outputs": [
    {
     "name": "stdout",
     "output_type": "stream",
     "text": [
      "SPARK_HOME: /usr/lib/spark3\n",
      "Using Hadoop client lib jars at 3.2.0, provided by Spark.\n",
      "PYSPARK_PYTHON=/opt/conda-analytics/bin/python3\n"
     ]
    },
    {
     "name": "stderr",
     "output_type": "stream",
     "text": [
      "Setting default log level to \"WARN\".\n",
      "To adjust logging level use sc.setLogLevel(newLevel). For SparkR, use setLogLevel(newLevel).\n",
      "23/08/15 12:30:10 WARN SparkConf: Note that spark.local.dir will be overridden by the value set by the cluster manager (via SPARK_LOCAL_DIRS in mesos/standalone/kubernetes and LOCAL_DIRS in YARN).\n",
      "23/08/15 12:30:10 WARN Utils: Service 'sparkDriver' could not bind on port 12000. Attempting port 12001.\n",
      "23/08/15 12:30:10 WARN Utils: Service 'sparkDriver' could not bind on port 12001. Attempting port 12002.\n",
      "23/08/15 12:30:10 WARN Utils: Service 'sparkDriver' could not bind on port 12002. Attempting port 12003.\n",
      "23/08/15 12:30:10 WARN Utils: Service 'SparkUI' could not bind on port 4040. Attempting port 4041.\n",
      "23/08/15 12:30:10 WARN Utils: Service 'SparkUI' could not bind on port 4041. Attempting port 4042.\n",
      "23/08/15 12:30:10 WARN Utils: Service 'SparkUI' could not bind on port 4042. Attempting port 4043.\n",
      "23/08/15 12:30:18 WARN Utils: Service 'org.apache.spark.network.netty.NettyBlockTransferService' could not bind on port 13000. Attempting port 13001.\n",
      "23/08/15 12:30:18 WARN Utils: Service 'org.apache.spark.network.netty.NettyBlockTransferService' could not bind on port 13001. Attempting port 13002.\n",
      "23/08/15 12:30:18 WARN Utils: Service 'org.apache.spark.network.netty.NettyBlockTransferService' could not bind on port 13002. Attempting port 13003.\n"
     ]
    }
   ],
   "source": [
    "spark_session = wmf.spark.create_custom_session(\n",
    "    master=\"yarn\",\n",
    "    app_name='idwiki-revert-rate',\n",
    "    spark_config={\n",
    "        \"spark.driver.memory\": \"4g\",\n",
    "        \"spark.dynamicAllocation.maxExecutors\": 64,\n",
    "        \"spark.executor.memory\": \"16g\",\n",
    "        \"spark.executor.cores\": 4,\n",
    "        \"spark.sql.shuffle.partitions\": 256,\n",
    "        \"spark.driver.maxResultSize\": \"2g\"\n",
    "        \n",
    "    }\n",
    ")"
   ]
  },
  {
   "cell_type": "code",
   "execution_count": 4,
   "id": "68e50340-6eb7-42b0-9a11-179aa92b910c",
   "metadata": {},
   "outputs": [],
   "source": [
    "spark_session.sparkContext.setLogLevel(\"ERROR\")"
   ]
  },
  {
   "cell_type": "markdown",
   "id": "1355424f-d5f4-4f4f-bd89-b88b0e3e550f",
   "metadata": {},
   "source": [
    "## revert rate query"
   ]
  },
  {
   "cell_type": "code",
   "execution_count": 34,
   "id": "8507fc96-effa-42cf-8f2a-9bdd654a7073",
   "metadata": {},
   "outputs": [],
   "source": [
    "mw_snapshot = '2023-07'\n",
    "time_bounds = ['2020-07-01', '2023-06-30'] # three years"
   ]
  },
  {
   "cell_type": "code",
   "execution_count": 65,
   "id": "728d830c-d3af-4d03-844e-4b1217be87f3",
   "metadata": {},
   "outputs": [
    {
     "name": "stderr",
     "output_type": "stream",
     "text": [
      "[Stage 56:=====================================================>(252 + 4) / 256]\r"
     ]
    },
    {
     "name": "stdout",
     "output_type": "stream",
     "text": [
      "CPU times: user 379 ms, sys: 46.4 ms, total: 425 ms\n",
      "Wall time: 1min 42s\n"
     ]
    },
    {
     "name": "stderr",
     "output_type": "stream",
     "text": [
      "                                                                                \r"
     ]
    }
   ],
   "source": [
    "%%time\n",
    "\n",
    "edit_revert_rate_query = \"\"\"\n",
    "WITH\n",
    "    base AS (\n",
    "        SELECT\n",
    "            DATE(event_timestamp) AS date,\n",
    "            CASE\n",
    "                WHEN event_user_is_anonymous THEN 'anon'\n",
    "                ELSE 'registered'\n",
    "            END AS user_type,\n",
    "            COUNT(DISTINCT revision_id) as edits,\n",
    "            COUNT(DISTINCT \n",
    "                    CASE \n",
    "                        WHEN page_namespace_is_content THEN revision_id \n",
    "                    END) AS content_edits,\n",
    "            COUNT(DISTINCT \n",
    "                    CASE \n",
    "                        WHEN revision_is_identity_reverted THEN revision_id \n",
    "                    END) AS reverts,\n",
    "            COUNT(DISTINCT \n",
    "                    CASE \n",
    "                        WHEN revision_is_identity_reverted \n",
    "                                AND page_namespace_is_content THEN revision_id \n",
    "                    END) AS content_reverts\n",
    "        FROM\n",
    "            wmf.mediawiki_history\n",
    "        WHERE\n",
    "            snapshot = '{MW_SNAPSHOT}' AND\n",
    "            wiki_db = 'idwiki' AND\n",
    "            event_entity = 'revision' AND\n",
    "            event_type = 'create' AND\n",
    "            DATE(event_timestamp) >= DATE('{START_DATE}') AND\n",
    "            DATE(event_timestamp) <= DATE('{END_DATE}') AND\n",
    "            (event_user_is_bot_by IS NULL OR SIZE(event_user_is_bot_by) = 0)\n",
    "        GROUP BY\n",
    "            DATE(event_timestamp),\n",
    "            CASE\n",
    "                WHEN event_user_is_anonymous THEN 'anon'\n",
    "                ELSE 'registered'\n",
    "            END\n",
    "        )\n",
    "            \n",
    "SELECT\n",
    "    date,\n",
    "    user_type,\n",
    "    SUM(edits) AS edits,\n",
    "    SUM(content_edits) AS content_edits,\n",
    "    SUM(reverts) AS reverts,\n",
    "    SUM(content_reverts) AS content_reverts\n",
    "FROM \n",
    "    base\n",
    "GROUP BY\n",
    "    date,\n",
    "    user_type\n",
    "\"\"\"\n",
    "\n",
    "edit_revert_rate = wmf.spark.run(edit_revert_rate_query.format(START_DATE=time_bounds[0],\n",
    "                                                               END_DATE=time_bounds[1],\n",
    "                                                               MW_SNAPSHOT=mw_snapshot))"
   ]
  },
  {
   "cell_type": "markdown",
   "id": "e2fe40a0-4a68-44b3-ac94-b315ab0ef5d5",
   "metadata": {},
   "source": [
    "## reverts data query"
   ]
  },
  {
   "cell_type": "code",
   "execution_count": 107,
   "id": "30f4995f-1a08-40dc-b115-805a604e14eb",
   "metadata": {},
   "outputs": [
    {
     "name": "stderr",
     "output_type": "stream",
     "text": [
      "Exception in thread \"serve-DataFrame\" java.net.SocketTimeoutException: Accept timed out\n",
      "\tat java.net.PlainSocketImpl.socketAccept(Native Method)\n",
      "\tat java.net.AbstractPlainSocketImpl.accept(AbstractPlainSocketImpl.java:409)\n",
      "\tat java.net.ServerSocket.implAccept(ServerSocket.java:560)\n",
      "\tat java.net.ServerSocket.accept(ServerSocket.java:528)\n",
      "\tat org.apache.spark.security.SocketAuthServer$$anon$1.run(SocketAuthServer.scala:64)\n",
      "                                                                                \r"
     ]
    },
    {
     "name": "stdout",
     "output_type": "stream",
     "text": [
      "CPU times: user 3.8 s, sys: 278 ms, total: 4.08 s\n",
      "Wall time: 3min 51s\n"
     ]
    }
   ],
   "source": [
    "%%time\n",
    "\n",
    "reverts_data_query = \"\"\"\n",
    "WITH \n",
    "    base AS (\n",
    "        SELECT \n",
    "            revision_id,\n",
    "            DATE(event_timestamp) AS date,\n",
    "            revision_first_identity_reverting_revision_id,\n",
    "            revision_seconds_to_identity_revert,\n",
    "            page_namespace_is_content\n",
    "        FROM \n",
    "            wmf.mediawiki_history\n",
    "        WHERE \n",
    "            snapshot = '{MW_SNAPSHOT}' AND\n",
    "            wiki_db = 'idwiki' AND\n",
    "            event_entity = 'revision' AND\n",
    "            event_type = 'create' AND\n",
    "            revision_is_identity_reverted AND\n",
    "            DATE (event_timestamp) >= DATE ('{START_DATE}') AND\n",
    "            DATE (event_timestamp) <= DATE ('{END_DATE}') AND \n",
    "            (event_user_is_bot_by IS NULL OR \n",
    "             SIZE(event_user_is_bot_by) = 0)\n",
    "        )\n",
    "            \n",
    "SELECT \n",
    "    base.*,\n",
    "    CASE\n",
    "        WHEN event_user_is_anonymous THEN 'anon'\n",
    "        ELSE 'registered'\n",
    "    END AS reverting_editor_type,\n",
    "    CASE\n",
    "        WHEN ARRAY_CONTAINS(event_user_groups, 'bot') THEN 'bot'\n",
    "        WHEN NOT ARRAY_CONTAINS(event_user_groups, 'bot') AND \n",
    "                    ARRAY_CONTAINS(event_user_groups, 'sysop') THEN 'admin'\n",
    "        WHEN NOT ARRAY_CONTAINS(event_user_groups, 'bot') AND \n",
    "                    ARRAY_CONTAINS(event_user_groups, 'rollbacker') THEN 'rollbacker'\n",
    "        ELSE 'others'\n",
    "    END AS reverting_editor_rights,\n",
    "    CASE\n",
    "        WHEN event_user_revision_count >= 0 AND event_user_revision_count < 100 THEN '0-99'\n",
    "        WHEN event_user_revision_count >= 100 AND event_user_revision_count < 500 THEN '100-499'\n",
    "        WHEN event_user_revision_count >= 500 THEN '500+'\n",
    "        ELSE 'n/a'\n",
    "    END AS edit_bucket,\n",
    "    revision_is_identity_reverted AS revert_is_reverted,\n",
    "    event_user_text AS reverting_editor\n",
    "FROM \n",
    "    base\n",
    "JOIN wmf.mediawiki_history mwh\n",
    "     ON base.revision_first_identity_reverting_revision_id = mwh.revision_id\n",
    "WHERE\n",
    "    snapshot = '{MW_SNAPSHOT}' AND \n",
    "    wiki_db = 'idwiki' AND \n",
    "    event_entity = 'revision' AND \n",
    "    event_type = 'create'\n",
    "\"\"\"\n",
    "\n",
    "reverts = wmf.spark.run(reverts_data_query.format(START_DATE=time_bounds[0],\n",
    "                                                 END_DATE=time_bounds[1],\n",
    "                                                 MW_SNAPSHOT=mw_snapshot))"
   ]
  },
  {
   "cell_type": "markdown",
   "id": "4fcb6cfd-5780-42c5-bca6-6cb394e3fe43",
   "metadata": {},
   "source": [
    "# Analysis"
   ]
  },
  {
   "cell_type": "markdown",
   "id": "0111db4b-413a-4f4a-abf3-c0a8016896dc",
   "metadata": {},
   "source": [
    "## Edit Revert Rate"
   ]
  },
  {
   "cell_type": "code",
   "execution_count": 109,
   "id": "00255b71-d7b7-476a-89f1-61f6f917f2e5",
   "metadata": {},
   "outputs": [
    {
     "data": {
      "text/html": [
       "<div>\n",
       "<style scoped>\n",
       "    .dataframe tbody tr th:only-of-type {\n",
       "        vertical-align: middle;\n",
       "    }\n",
       "\n",
       "    .dataframe tbody tr th {\n",
       "        vertical-align: top;\n",
       "    }\n",
       "\n",
       "    .dataframe thead th {\n",
       "        text-align: right;\n",
       "    }\n",
       "</style>\n",
       "<table border=\"1\" class=\"dataframe\">\n",
       "  <thead>\n",
       "    <tr style=\"text-align: right;\">\n",
       "      <th></th>\n",
       "      <th>edits</th>\n",
       "      <th>content_edits</th>\n",
       "      <th>reverts</th>\n",
       "      <th>content_reverts</th>\n",
       "    </tr>\n",
       "    <tr>\n",
       "      <th>user_type</th>\n",
       "      <th></th>\n",
       "      <th></th>\n",
       "      <th></th>\n",
       "      <th></th>\n",
       "    </tr>\n",
       "  </thead>\n",
       "  <tbody>\n",
       "    <tr>\n",
       "      <th>anon</th>\n",
       "      <td>612.0</td>\n",
       "      <td>583.0</td>\n",
       "      <td>162.0</td>\n",
       "      <td>151.0</td>\n",
       "    </tr>\n",
       "    <tr>\n",
       "      <th>registered</th>\n",
       "      <td>2974.0</td>\n",
       "      <td>2385.0</td>\n",
       "      <td>177.0</td>\n",
       "      <td>127.0</td>\n",
       "    </tr>\n",
       "  </tbody>\n",
       "</table>\n",
       "</div>"
      ],
      "text/plain": [
       "             edits  content_edits  reverts  content_reverts\n",
       "user_type                                                  \n",
       "anon         612.0          583.0    162.0            151.0\n",
       "registered  2974.0         2385.0    177.0            127.0"
      ]
     },
     "execution_count": 109,
     "metadata": {},
     "output_type": "execute_result"
    }
   ],
   "source": [
    "edit_revert_rate_grouped = round(edit_revert_rate\n",
    "                                 .groupby(['date', 'user_type'])\n",
    "                                 .mean()\n",
    "                                 .groupby('user_type')\n",
    "                                 .mean())\n",
    "\n",
    "edit_revert_rate_grouped"
   ]
  },
  {
   "cell_type": "code",
   "execution_count": 211,
   "id": "2c2e52ad-e390-4df5-87e1-c452ffdcb493",
   "metadata": {},
   "outputs": [
    {
     "name": "stdout",
     "output_type": "stream",
     "text": [
      "| user_type | edits | content_edits | reverts | content_reverts\n",
      "| ----- | ----- | ----- | ----- | ----- \n",
      "| anon | 612.0 | 583.0 | 162.0 | 151.0\n",
      "| registered | 2974.0 | 2385.0 | 177.0 | 127.0\n",
      "\n"
     ]
    }
   ],
   "source": [
    "wmf.utils.df_to_remarkup(edit_revert_rate_grouped.reset_index())"
   ]
  },
  {
   "cell_type": "code",
   "execution_count": 119,
   "id": "bd73a836-2649-40f0-add3-56597309004d",
   "metadata": {},
   "outputs": [],
   "source": [
    "# edits performed by anonymous editors\n",
    "anon_edits_revert_rate = edit_revert_rate_grouped.loc['anon', 'reverts'] / edit_revert_rate_grouped.loc['anon', 'edits'] * 100\n",
    "anon_content_edits_revert_rate = edit_revert_rate_grouped.loc['anon', 'content_reverts'] / edit_revert_rate_grouped.loc['anon', 'content_edits'] * 100\n",
    "\n",
    "# edits performed by registered editors\n",
    "registered_edits_revert_rate = edit_revert_rate_grouped.loc['registered', 'reverts'] / edit_revert_rate_grouped.loc['registered', 'edits'] * 100\n",
    "registered_content_edits_revert_rate = edit_revert_rate_grouped.loc['registered', 'content_reverts'] / edit_revert_rate_grouped.loc['registered', 'content_edits'] * 100"
   ]
  },
  {
   "cell_type": "code",
   "execution_count": 127,
   "id": "6218af7a-5f37-415a-9e0f-4a1ffcc04944",
   "metadata": {},
   "outputs": [
    {
     "name": "stdout",
     "output_type": "stream",
     "text": [
      "On average per day,    \n",
      "\t26.47% of edits made by anonymous editors were reverted    \n",
      "\t25.9% of content edits made by anonymous editors were reverted    \n",
      "\t5.95% of edits made by registered editors were reverted    \n",
      "\t5.32% of content edits made by registered editors were reverted\n"
     ]
    }
   ],
   "source": [
    "print(f'On average per day,\\\n",
    "    \\n\\t{round(anon_edits_revert_rate, 2)}% of edits made by anonymous editors were reverted\\\n",
    "    \\n\\t{round(anon_content_edits_revert_rate, 2)}% of content edits made by anonymous editors were reverted\\\n",
    "    \\n\\t{round(registered_edits_revert_rate, 2)}% of edits made by registered editors were reverted\\\n",
    "    \\n\\t{round(registered_content_edits_revert_rate, 2)}% of content edits made by registered editors were reverted')"
   ]
  },
  {
   "cell_type": "markdown",
   "id": "2a8ddfe2-1714-42c2-a64f-d104b5499178",
   "metadata": {},
   "source": [
    "## Distribution of Time to Revert"
   ]
  },
  {
   "cell_type": "code",
   "execution_count": 199,
   "id": "9a9789bd-29c8-4e02-9f93-15c24af5c3cc",
   "metadata": {},
   "outputs": [
    {
     "data": {
      "image/png": "[encoded data removed]",
      "text/plain": [
       "<Figure size 640x480 with 1 Axes>"
      ]
     },
     "metadata": {},
     "output_type": "display_data"
    }
   ],
   "source": [
    "def generate_hist(ax, frame, title, \n",
    "                  col='revision_seconds_to_identity_revert', \n",
    "                  ylabel='number of reverts', \n",
    "                  legend_loc='upper right', \n",
    "                  anchor_pos=(1.75, 1)):\n",
    "    \n",
    "    ax = sns.histplot(data=frame, \n",
    "                      x=col, \n",
    "                      log_scale=True,\n",
    "                      bins = np.linspace(0, 8, 30), \n",
    "                      element='step',\n",
    "                      color='#DAA520'\n",
    "                 )\n",
    "    \n",
    "    def td_str(s):\n",
    "        return str(timedelta(seconds=int(s)))\n",
    "    \n",
    "    x_ticks = [1, 60, 1*60*60, 3*24*60*60]\n",
    "    duration_ticks = FixedLocator(x_ticks)\n",
    "    duration_fmt = FuncFormatter(lambda x, pos: td_str(x))\n",
    "    \n",
    "    lines = [\n",
    "        (\"10th percentile ({})\", frame[col].quantile(0.1), \"#FF0000\"),\n",
    "        (\"50th percentile ({})\", frame[col].median(), \"#6B8E23\"),\n",
    "        (\"90th percentile ({})\", frame[col].quantile(0.9), \"#0000FF\")\n",
    "    ]\n",
    "    \n",
    "    for label, pos, color in lines:\n",
    "        ax.axvline(x=pos, color=color, label=label.format(td_str(pos)))\n",
    "    \n",
    "    ax.xaxis.set_major_locator(duration_ticks)\n",
    "    ax.xaxis.set_major_formatter(duration_fmt)\n",
    "    \n",
    "    ax.set_title(title)\n",
    "    ax.set_xlabel('time to save [%H:%M:%S] (log scale)')\n",
    "    ax.set_ylabel(ylabel)\n",
    "    \n",
    "    ax.legend(loc=legend_loc, bbox_to_anchor=anchor_pos)\n",
    "    \n",
    "fig, ax = plt.subplots()\n",
    "generate_hist(ax, reverts.query(\"\"\"revision_seconds_to_identity_revert != 0\"\"\"), \n",
    "              title='Distribution of Time to Revert (in seconds)')"
   ]
  },
  {
   "cell_type": "code",
   "execution_count": 209,
   "id": "fb067db1-8433-4344-8889-74db3108fa71",
   "metadata": {},
   "outputs": [],
   "source": [
    "def quantiles(frame, col='revision_seconds_to_identity_revert'):    \n",
    "\n",
    "    qdict = {\n",
    "        '10th': frame[col].quantile(0.1)/60,\n",
    "        '25th': frame[col].quantile(0.25)/60,\n",
    "        '50th': frame[col].quantile(0.5)/60,\n",
    "        '75th': frame[col].quantile(0.75)/60,\n",
    "        '90th': frame[col].quantile(0.9)/60,\n",
    "        '99th': frame[col].quantile(0.99)/60\n",
    "    }\n",
    "    \n",
    "    df = pd.DataFrame(qdict.values(),\n",
    "                      index=qdict.keys(),\n",
    "                      columns=['time (in minutes)'])\n",
    "    \n",
    "    df = df.astype({'time (in minutes)': int})\n",
    "    df.index.name = 'percentile'\n",
    "    \n",
    "    return df"
   ]
  },
  {
   "cell_type": "code",
   "execution_count": 214,
   "id": "94ae1d17-d726-4f6a-973b-0268706d98ce",
   "metadata": {},
   "outputs": [
    {
     "data": {
      "text/html": [
       "<div>\n",
       "<style scoped>\n",
       "    .dataframe tbody tr th:only-of-type {\n",
       "        vertical-align: middle;\n",
       "    }\n",
       "\n",
       "    .dataframe tbody tr th {\n",
       "        vertical-align: top;\n",
       "    }\n",
       "\n",
       "    .dataframe thead th {\n",
       "        text-align: right;\n",
       "    }\n",
       "</style>\n",
       "<table border=\"1\" class=\"dataframe\">\n",
       "  <thead>\n",
       "    <tr style=\"text-align: right;\">\n",
       "      <th></th>\n",
       "      <th>time (in minutes)</th>\n",
       "      <th>time (in hours)</th>\n",
       "    </tr>\n",
       "    <tr>\n",
       "      <th>percentile</th>\n",
       "      <th></th>\n",
       "      <th></th>\n",
       "    </tr>\n",
       "  </thead>\n",
       "  <tbody>\n",
       "    <tr>\n",
       "      <th>10th</th>\n",
       "      <td>1</td>\n",
       "      <td>0.017</td>\n",
       "    </tr>\n",
       "    <tr>\n",
       "      <th>25th</th>\n",
       "      <td>11</td>\n",
       "      <td>0.183</td>\n",
       "    </tr>\n",
       "    <tr>\n",
       "      <th>50th</th>\n",
       "      <td>248</td>\n",
       "      <td>4.133</td>\n",
       "    </tr>\n",
       "    <tr>\n",
       "      <th>75th</th>\n",
       "      <td>6627</td>\n",
       "      <td>110.450</td>\n",
       "    </tr>\n",
       "    <tr>\n",
       "      <th>90th</th>\n",
       "      <td>77311</td>\n",
       "      <td>1288.517</td>\n",
       "    </tr>\n",
       "    <tr>\n",
       "      <th>99th</th>\n",
       "      <td>682231</td>\n",
       "      <td>11370.517</td>\n",
       "    </tr>\n",
       "  </tbody>\n",
       "</table>\n",
       "</div>"
      ],
      "text/plain": [
       "            time (in minutes)  time (in hours)\n",
       "percentile                                    \n",
       "10th                        1            0.017\n",
       "25th                       11            0.183\n",
       "50th                      248            4.133\n",
       "75th                     6627          110.450\n",
       "90th                    77311         1288.517\n",
       "99th                   682231        11370.517"
      ]
     },
     "execution_count": 214,
     "metadata": {},
     "output_type": "execute_result"
    }
   ],
   "source": [
    "time_to_revert_quantiles = quantiles(reverts.query(\"\"\"revision_seconds_to_identity_revert != 0\"\"\"))\n",
    "time_to_revert_quantiles['time (in hours)'] = round(time_to_revert_quantiles['time (in minutes)'] / 60, 3)\n",
    "time_to_revert_quantiles"
   ]
  },
  {
   "cell_type": "markdown",
   "id": "9983e500-40ce-4301-b46d-3752242f3ad0",
   "metadata": {},
   "source": [
    "## Reverting Editors by User Right"
   ]
  },
  {
   "cell_type": "code",
   "execution_count": 219,
   "id": "c017b17c-2ee2-4211-a5c1-bbe402137c73",
   "metadata": {},
   "outputs": [
    {
     "name": "stdout",
     "output_type": "stream",
     "text": [
      "| reverting_editor_type | reverting_editor_rights | revision_id\n",
      "| ----- | ----- | ----- \n",
      "| anon | others | 40.0\n",
      "| registered | admin | 102.0\n",
      "| registered | bot | 8.0\n",
      "| registered | others | 133.0\n",
      "| registered | rollbacker | 57.0\n",
      "\n"
     ]
    }
   ],
   "source": [
    "wmf.utils.df_to_remarkup(round((reverts\n",
    "       .groupby(['date', 'reverting_editor_type', 'reverting_editor_rights'])\n",
    "       .agg({\n",
    "           'revision_id': 'count'\n",
    "       })\n",
    "      )\n",
    "      .groupby(['reverting_editor_type', 'reverting_editor_rights'])\n",
    "      .mean()).reset_index())"
   ]
  },
  {
   "cell_type": "code",
   "execution_count": 223,
   "id": "db62e304-65d0-476b-953f-a115c4de815c",
   "metadata": {},
   "outputs": [
    {
     "data": {
      "text/html": [
       "<div>\n",
       "<style scoped>\n",
       "    .dataframe tbody tr th:only-of-type {\n",
       "        vertical-align: middle;\n",
       "    }\n",
       "\n",
       "    .dataframe tbody tr th {\n",
       "        vertical-align: top;\n",
       "    }\n",
       "\n",
       "    .dataframe thead th {\n",
       "        text-align: right;\n",
       "    }\n",
       "</style>\n",
       "<table border=\"1\" class=\"dataframe\">\n",
       "  <thead>\n",
       "    <tr style=\"text-align: right;\">\n",
       "      <th></th>\n",
       "      <th>total_reverts_(3 years)</th>\n",
       "    </tr>\n",
       "    <tr>\n",
       "      <th>edit_bucket</th>\n",
       "      <th></th>\n",
       "    </tr>\n",
       "  </thead>\n",
       "  <tbody>\n",
       "    <tr>\n",
       "      <th>500+</th>\n",
       "      <td>105595</td>\n",
       "    </tr>\n",
       "    <tr>\n",
       "      <th>0-99</th>\n",
       "      <td>22809</td>\n",
       "    </tr>\n",
       "    <tr>\n",
       "      <th>100-499</th>\n",
       "      <td>14307</td>\n",
       "    </tr>\n",
       "  </tbody>\n",
       "</table>\n",
       "</div>"
      ],
      "text/plain": [
       "             total_reverts_(3 years)\n",
       "edit_bucket                         \n",
       "500+                          105595\n",
       "0-99                           22809\n",
       "100-499                        14307"
      ]
     },
     "execution_count": 223,
     "metadata": {},
     "output_type": "execute_result"
    }
   ],
   "source": [
    "(reverts.query(\"\"\"(reverting_editor_rights == 'others') & (reverting_editor_type == 'registered') & (edit_bucket != 'n/a')\"\"\") \n",
    " .groupby('edit_bucket')\n",
    " .agg({\n",
    "     'revision_id': 'count'\n",
    " })\n",
    " .sort_values('revision_id', \n",
    "              ascending=False)\n",
    " .rename({\n",
    "     'revision_id': 'total_reverts_(3 years)'\n",
    " }, axis=1)\n",
    ")"
   ]
  },
  {
   "cell_type": "markdown",
   "id": "e4d81e89-acd7-4496-bc29-a003622f49a9",
   "metadata": {},
   "source": [
    "## Bots Performing Reverts"
   ]
  },
  {
   "cell_type": "code",
   "execution_count": 144,
   "id": "dafe6c52-f52a-4009-a166-d15344925608",
   "metadata": {},
   "outputs": [
    {
     "data": {
      "text/html": [
       "<div>\n",
       "<style scoped>\n",
       "    .dataframe tbody tr th:only-of-type {\n",
       "        vertical-align: middle;\n",
       "    }\n",
       "\n",
       "    .dataframe tbody tr th {\n",
       "        vertical-align: top;\n",
       "    }\n",
       "\n",
       "    .dataframe thead th {\n",
       "        text-align: right;\n",
       "    }\n",
       "</style>\n",
       "<table border=\"1\" class=\"dataframe\">\n",
       "  <thead>\n",
       "    <tr style=\"text-align: right;\">\n",
       "      <th></th>\n",
       "      <th>total_reverts_(3 years)</th>\n",
       "    </tr>\n",
       "    <tr>\n",
       "      <th>reverting_editor</th>\n",
       "      <th></th>\n",
       "    </tr>\n",
       "  </thead>\n",
       "  <tbody>\n",
       "    <tr>\n",
       "      <th>HsfBot</th>\n",
       "      <td>3819</td>\n",
       "    </tr>\n",
       "    <tr>\n",
       "      <th>AABot</th>\n",
       "      <td>1843</td>\n",
       "    </tr>\n",
       "    <tr>\n",
       "      <th>EmausBot</th>\n",
       "      <td>727</td>\n",
       "    </tr>\n",
       "    <tr>\n",
       "      <th>Arya-Bot</th>\n",
       "      <td>619</td>\n",
       "    </tr>\n",
       "    <tr>\n",
       "      <th>Xqbot</th>\n",
       "      <td>326</td>\n",
       "    </tr>\n",
       "    <tr>\n",
       "      <th>Wagino Bot</th>\n",
       "      <td>36</td>\n",
       "    </tr>\n",
       "    <tr>\n",
       "      <th>Bot5958</th>\n",
       "      <td>35</td>\n",
       "    </tr>\n",
       "    <tr>\n",
       "      <th>InternetArchiveBot</th>\n",
       "      <td>21</td>\n",
       "    </tr>\n",
       "    <tr>\n",
       "      <th>OrophinBot</th>\n",
       "      <td>16</td>\n",
       "    </tr>\n",
       "    <tr>\n",
       "      <th>RushingBot</th>\n",
       "      <td>5</td>\n",
       "    </tr>\n",
       "    <tr>\n",
       "      <th>Philosophical Zombie Bot</th>\n",
       "      <td>4</td>\n",
       "    </tr>\n",
       "    <tr>\n",
       "      <th>Taylorbot</th>\n",
       "      <td>3</td>\n",
       "    </tr>\n",
       "    <tr>\n",
       "      <th>ListeriaBot</th>\n",
       "      <td>1</td>\n",
       "    </tr>\n",
       "  </tbody>\n",
       "</table>\n",
       "</div>"
      ],
      "text/plain": [
       "                          total_reverts_(3 years)\n",
       "reverting_editor                                 \n",
       "HsfBot                                       3819\n",
       "AABot                                        1843\n",
       "EmausBot                                      727\n",
       "Arya-Bot                                      619\n",
       "Xqbot                                         326\n",
       "Wagino Bot                                     36\n",
       "Bot5958                                        35\n",
       "InternetArchiveBot                             21\n",
       "OrophinBot                                     16\n",
       "RushingBot                                      5\n",
       "Philosophical Zombie Bot                        4\n",
       "Taylorbot                                       3\n",
       "ListeriaBot                                     1"
      ]
     },
     "execution_count": 222,
     "metadata": {},
     "output_type": "execute_result"
    }
   ],
   "source": [
    "(reverts\n",
    " .query(\"\"\"reverting_editor_rights == 'bot'\"\"\")\n",
    " .groupby('reverting_editor')\n",
    " .agg({\n",
    "     'revision_id': 'count'\n",
    " })\n",
    " .sort_values('revision_id', \n",
    "              ascending=False)\n",
    " .rename({\n",
    "     'revision_id': 'total_reverts_(3 years)'\n",
    " }, axis=1)\n",
    ")"
   ]
  }
 ],
 "metadata": {
  "kernelspec": {
   "display_name": "Python 3 (ipykernel)",
   "language": "python",
   "name": "python3"
  },
  "language_info": {
   "codemirror_mode": {
    "name": "ipython",
    "version": 3
   },
   "file_extension": ".py",
   "mimetype": "text/x-python",
   "name": "python",
   "nbconvert_exporter": "python",
   "pygments_lexer": "ipython3",
   "version": "3.10.8"
  }
 },
 "nbformat": 4,
 "nbformat_minor": 5
}
